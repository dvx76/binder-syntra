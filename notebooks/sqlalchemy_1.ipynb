{
 "cells": [
  {
   "cell_type": "markdown",
   "id": "74e81d7c",
   "metadata": {},
   "source": [
    "# SQLAlchemy 1: Basics\n",
    "\n",
    "## TODO\n",
    "Reflectievraag (klassikaal):\n",
    "Waarom zou je niet altijd een ORM gebruiken?\n",
    "(Hint: performance, specifieke SQL-functies, debugging)\n",
    "\n",
    "\n",
    "## Inleiding\n",
    "In deze cursus leer je wat een ORM is en hoe je SQLAlchemy kan gebruiken om op een betere en handigere manier met een SQL database te werken vanuit je Python applicaties.\n",
    "\n",
    "De cursus volgt grotendeels de uitstekende [SQLAlchemy Unified Tutorial](https://docs.sqlalchemy.org/en/20/tutorial/index.html)\n",
    "\n",
    "### Terugblik\n",
    "Tijdens de Flask lessen hebben we een SQLite database gebruikt m.b.v. de `sqlite` package uit de Python standard library."
   ]
  },
  {
   "cell_type": "markdown",
   "id": "35c2fce8-6009-4b16-abed-675a5fb0a5a5",
   "metadata": {},
   "source": [
    "Deze aanpak was prima voor een klein project maar wordt snel onhandig bij grotere applicaties en/of bij verdere ontwikkeling.\n",
    "- We werken rechtstreeks met SQL-strings\n",
    "- We moeten queries aanpassen als de database verandert\n",
    "- We moeten zelf fouten afhandelen\n",
    "- Als we ooit willen overschakelen naar een andere database moeten we heel wat code volledig herzien\n",
    "\n",
    "### Wat is een ORM\n",
    "Een **ORM** (_Object Relational Mapper_) vertaalt (_mapt_) automatisch tussen objecten in een programmeeromgeving en tabellen in een relationele databank.\n",
    "\n",
    "Met een ORM schrijf je dus minder ruwe SQL en werk je meer op het niveau van Python objecten. Je koppelt hiermee de business logic in de applicatie los van de onderliggende database. We spreken some over \"_persistence ignorance\"_.\n",
    "\n",
    "Het `INSERT` statement uit het laatste voorbeeld zou je dan ongeveer zo herschrijven:\n",
    "\n",
    "```python\n",
    "session.add(Movie(title=\"Monty Python and the Holy Grail\"))\n",
    "session.commit()\n",
    "movie = session.execute(select(Movie)).first()\n",
    "```\n",
    "\n",
    "`movie` zal dan een 'echt' `Movie` _object_ zijn waarvan we attributen, zoals `movie.title`, kunnen gebruiken!\n",
    "\n",
    "ORMs zijn doorgaans ook database-agnostisch wat betekent dat je met geen of weinig aanpassingen in je code de onderliggende database kan veranderen!\n",
    "\n",
    "ORMs zijn zeker niet uniek voor Python. Zo is er Hibernate voor Java of ODB voor C++.\n",
    "\n",
    "### SQLAlchemy\n",
    "\n",
    "SQLAlchemy is dus een ORM (en eigenlijk _de_ ORM voor Python), maar kan ook gebruikt worden louter als abstractielaag tussen applicatie en database.\n",
    "\n",
    "SQLAlchemy bestaat uit twee grote onderdelen\"\n",
    "- **CORE**\n",
    "  - Engine: beheert de verbinding(en) met de database\n",
    "  - SQL Expression Language: maakt het mogelijk SQL te bouwen met Python functies\n",
    "  - Programmatisch definiëren van database schema\n",
    "  - _Imperatieve_ stijl - je specificeert precies hoe de database er uitziet en hoe data verwerkt wordt\n",
    "  - `import sqlalchemy`\n",
    "- **ORM** - Object Relational Mapping\n",
    "  - Mapt database rows and tables op Python objecten\n",
    "  - Breidt de Core SQL Expression Language uit zodat SQL queries samengesteld en uitgevoerd kunnen worden op basis van deze objecten.\n",
    "  - _Declaratieve_ stijl - je beschrijft het model laat SQLAlchemy de rest doen\n",
    "  - `import sqlalchemy.orm` \n",
    "\n",
    "![](https://docs.sqlalchemy.org/en/20/_images/sqla_arch_small.png \"Bron: https://docs.sqlalchemy.org/en/20/intro.html\")\n",
    "\n",
    "Tijdens deze cursus zullen we zowel SQLAlchemy Core als ORM bekijken.\n",
    "\n",
    "### SQLite\n",
    "Net als bij Flask starten we in eerste instantie met SQLite als onderliggende database.\n",
    "\n",
    "SQLite is ideaal om mee te starten omdat er geen server installatie nodig is en alles in één enkel bestand wordt beheerd. We kunnen dan later ook bekijken hoe je dankzij SQLAlchemy gemakkelijk naar een andere database kan overstappen, zoals PostgreSQL.\n",
    "\n",
    "Bovendien mag SQLite tegenwoordig zeker als een volwaardige database systeem aanzien worden. SQLite ondersteunt ACID-transacties en volgt het SQL-standaarden. Heel wat applicaties gebruiken SQLite standaard als database, bvb. iMessage, Google Chrome of Dropbox.\n",
    "\n",
    "### Voorbereiding\n",
    "#### SQLite CLI\n",
    "De SQLite CLI is handig om handmatig te bekijken wat er precies in de database gebeurt. Als je deze notebook gebruikt via Google Colab or Binder kan je via de terminal sqlite als volgt installeren.\n",
    "\n",
    "```bash\n",
    "apt install sqlite3\n",
    "```\n",
    "\n",
    "Voor andere platformen kan je terecht op  https://sqlite.org/download.html.\n",
    "\n",
    "#### Python Package\n",
    "\n",
    "```\n",
    "pip install sqlalchemy~=2.0\n",
    "\n",
    "uv add sqlalchemy~=2.0\n",
    "\n",
    "conda install sqlalchemy~=2.0\n",
    "```"
   ]
  },
  {
   "cell_type": "markdown",
   "id": "03e7eae1",
   "metadata": {},
   "source": [
    "## De SQLAlchemy Engine\n",
    "De [`engine`](https://docs.sqlalchemy.org/en/20/core/connections.html#sqlalchemy.engine.Engine) is de centrale bron van alle verbindingen met een bepaalde database.\n",
    "\n",
    "Er is typisch één global `Engine` object.\n",
    "\n",
    "De engine definieert wat voor database gebruikt worden (het _dialect_), bvb. `postgresql` of `sqlite`, als ook de details van die database (de _connection string).\n",
    "\n",
    "Om een `Engine` object de maken gebruik je de `sqlalchemy.create_engine` functie (een zogenaamde [factory functie](https://en.wikipedia.org/wiki/Factory_method_pattern)).\n",
    "\n",
    "In het volgend voorbeeld maken we een engine voor een SQLite database in het locale bestand `sqlite.db`. Je ziet ook hoe je een engine zou maken voor een [SQLite in-memory database](https://sqlite.org/inmemorydb.html). Dit laatste kan erg handig zijn bij testen. We werken nu eerst verder met een gewoon bestand zodat we de database zelf met de CLI kunnen inspecteren. Het `echo=True` argument zorgt er voor dat SQLAlchemy alle operaties (SQL) met de database logt. Zo kunnen we precies zien wat er gebeurt."
   ]
  },
  {
   "cell_type": "code",
   "execution_count": 1,
   "id": "760acbf2-3342-4ecf-b6e5-d1b7d3ad2b99",
   "metadata": {},
   "outputs": [],
   "source": [
    "from sqlalchemy import create_engine\n",
    "\n",
    "engine_file = create_engine(\"sqlite:///sqlite.db\", echo=True)\n",
    "\n",
    "engine_inmem = create_engine(\"sqlite+pysqlite:///:memory:\", echo=True)\n",
    "\n",
    "engine = engine_file"
   ]
  },
  {
   "cell_type": "markdown",
   "id": "d79e3486-0b55-42fd-a435-c58a19c63fdd",
   "metadata": {},
   "source": [
    "Er gebeurt eigenlijk nog niets. De engine gebruikt _lazy initialization_, wat in dit geval betekent dat er pas een verbinding met de database wordt gemaakt als die echt nodig is.\n",
    "\n",
    "In de volgende stap werken we verder hetzelfde `Engine` object en gebruiken we de `connect` methode om een [`Connection` object](https://docs.sqlalchemy.org/en/20/core/connections.html#sqlalchemy.engine.Connection) te krijgen. Van dat object gebruiken we de `execute` methode een rechtstreeks een standaard SQL commando uit te voeren. Door `connect` als _context manager_ te gebruiken zorgen we er voor dat de verbinding automatisch terug vrij wordt gegeven (anders zouden we explicit the `conn.close()` methode moeten uitvoeren.). Op de `text` functie komen we later terug."
   ]
  },
  {
   "cell_type": "code",
   "execution_count": 2,
   "id": "cfd730da-ba3e-4a61-9b7d-2b63be6e4e0b",
   "metadata": {},
   "outputs": [
    {
     "name": "stdout",
     "output_type": "stream",
     "text": [
      "2025-10-11 19:08:37,922 INFO sqlalchemy.engine.Engine BEGIN (implicit)\n",
      "2025-10-11 19:08:37,923 INFO sqlalchemy.engine.Engine SELECT 'hello world'\n",
      "2025-10-11 19:08:37,923 INFO sqlalchemy.engine.Engine [generated in 0.00087s] ()\n",
      "[('hello world',)]\n",
      "2025-10-11 19:08:37,923 INFO sqlalchemy.engine.Engine ROLLBACK\n"
     ]
    }
   ],
   "source": [
    "from sqlalchemy import text\n",
    "\n",
    "with engine.connect() as conn:\n",
    "    result = conn.execute(text(\"SELECT 'hello world'\"))\n",
    "    print(result.all())"
   ]
  },
  {
   "cell_type": "markdown",
   "id": "74fd4371-cfd8-499b-bf4a-f16c77677934",
   "metadata": {},
   "source": [
    "We zien dat:\n",
    "- De `all()` methode op het resultaat van de query een lijst met tuples teruggeeft. Elk tuple is één rij.\n",
    "- Als de context manager verlaten wordt is het standaard gedrag om een rollback (`conn.rollback()`) uit te voeren. Dit is een verstandig en veilig gedrag en dwingt het expliciet gebruik van `conn.commit()` indien er wijzigingen zijn die gecommit moeten worden."
   ]
  },
  {
   "cell_type": "markdown",
   "id": "450e7df6-56c5-4764-99d9-147f2d8ac001",
   "metadata": {},
   "source": [
    "Het `Engine` object bevat een connection [`pool`](https://docs.sqlalchemy.org/en/20/core/pooling.html#sqlalchemy.pool.Pool). Hiermee houdt SQLAlchemy zelf automatisch verschillende database verbindingen bij die via `engine.connect` toegekend worden."
   ]
  },
  {
   "cell_type": "code",
   "execution_count": 3,
   "id": "0b961b20-2d7e-476d-9767-0d56abca73d1",
   "metadata": {},
   "outputs": [
    {
     "name": "stdout",
     "output_type": "stream",
     "text": [
      "Pool size: 5  Connections in pool: 1 Current Overflow: -4 Current Checked out connections: 0\n",
      "Pool size: 5  Connections in pool: 0 Current Overflow: -4 Current Checked out connections: 1\n",
      "Pool size: 5  Connections in pool: 0 Current Overflow: -3 Current Checked out connections: 2\n",
      "Pool size: 5  Connections in pool: 1 Current Overflow: -3 Current Checked out connections: 1\n"
     ]
    }
   ],
   "source": [
    "print(engine.pool.status())\n",
    "\n",
    "with engine.connect() as conn:\n",
    "    print(engine.pool.status())\n",
    "    with engine.connect() as conn2:\n",
    "        print(engine.pool.status())\n",
    "    print(engine.pool.status())"
   ]
  },
  {
   "cell_type": "markdown",
   "id": "826e0ad9-fd06-406b-b634-499786eed639",
   "metadata": {},
   "source": [
    "## RAW SQL\n",
    "\n",
    "Gaan we in principe niet gebruiken maar goed te weten dat dit kan.\n",
    "\n",
    "### CREATE, INSERT"
   ]
  },
  {
   "cell_type": "code",
   "execution_count": 4,
   "id": "e54f3333-e429-404f-b066-a6dac657eb44",
   "metadata": {},
   "outputs": [
    {
     "name": "stdout",
     "output_type": "stream",
     "text": [
      "2025-10-11 19:13:54,584 INFO sqlalchemy.engine.Engine BEGIN (implicit)\n",
      "2025-10-11 19:13:54,585 INFO sqlalchemy.engine.Engine CREATE TABLE some_table (x int, y int)\n",
      "2025-10-11 19:13:54,586 INFO sqlalchemy.engine.Engine [generated in 0.00159s] ()\n",
      "2025-10-11 19:13:54,587 INFO sqlalchemy.engine.Engine ROLLBACK\n"
     ]
    },
    {
     "ename": "OperationalError",
     "evalue": "(sqlite3.OperationalError) table some_table already exists\n[SQL: CREATE TABLE some_table (x int, y int)]\n(Background on this error at: https://sqlalche.me/e/20/e3q8)",
     "output_type": "error",
     "traceback": [
      "\u001b[31m---------------------------------------------------------------------------\u001b[39m",
      "\u001b[31mOperationalError\u001b[39m                          Traceback (most recent call last)",
      "\u001b[36mFile \u001b[39m\u001b[32m~/dev/github/binder-syntra/.venv/lib/python3.13/site-packages/sqlalchemy/engine/base.py:1967\u001b[39m, in \u001b[36mConnection._exec_single_context\u001b[39m\u001b[34m(self, dialect, context, statement, parameters)\u001b[39m\n\u001b[32m   1966\u001b[39m     \u001b[38;5;28;01mif\u001b[39;00m \u001b[38;5;129;01mnot\u001b[39;00m evt_handled:\n\u001b[32m-> \u001b[39m\u001b[32m1967\u001b[39m         \u001b[38;5;28;43mself\u001b[39;49m\u001b[43m.\u001b[49m\u001b[43mdialect\u001b[49m\u001b[43m.\u001b[49m\u001b[43mdo_execute\u001b[49m\u001b[43m(\u001b[49m\n\u001b[32m   1968\u001b[39m \u001b[43m            \u001b[49m\u001b[43mcursor\u001b[49m\u001b[43m,\u001b[49m\u001b[43m \u001b[49m\u001b[43mstr_statement\u001b[49m\u001b[43m,\u001b[49m\u001b[43m \u001b[49m\u001b[43meffective_parameters\u001b[49m\u001b[43m,\u001b[49m\u001b[43m \u001b[49m\u001b[43mcontext\u001b[49m\n\u001b[32m   1969\u001b[39m \u001b[43m        \u001b[49m\u001b[43m)\u001b[49m\n\u001b[32m   1971\u001b[39m \u001b[38;5;28;01mif\u001b[39;00m \u001b[38;5;28mself\u001b[39m._has_events \u001b[38;5;129;01mor\u001b[39;00m \u001b[38;5;28mself\u001b[39m.engine._has_events:\n",
      "\u001b[36mFile \u001b[39m\u001b[32m~/dev/github/binder-syntra/.venv/lib/python3.13/site-packages/sqlalchemy/engine/default.py:951\u001b[39m, in \u001b[36mDefaultDialect.do_execute\u001b[39m\u001b[34m(self, cursor, statement, parameters, context)\u001b[39m\n\u001b[32m    950\u001b[39m \u001b[38;5;28;01mdef\u001b[39;00m\u001b[38;5;250m \u001b[39m\u001b[34mdo_execute\u001b[39m(\u001b[38;5;28mself\u001b[39m, cursor, statement, parameters, context=\u001b[38;5;28;01mNone\u001b[39;00m):\n\u001b[32m--> \u001b[39m\u001b[32m951\u001b[39m     \u001b[43mcursor\u001b[49m\u001b[43m.\u001b[49m\u001b[43mexecute\u001b[49m\u001b[43m(\u001b[49m\u001b[43mstatement\u001b[49m\u001b[43m,\u001b[49m\u001b[43m \u001b[49m\u001b[43mparameters\u001b[49m\u001b[43m)\u001b[49m\n",
      "\u001b[31mOperationalError\u001b[39m: table some_table already exists",
      "\nThe above exception was the direct cause of the following exception:\n",
      "\u001b[31mOperationalError\u001b[39m                          Traceback (most recent call last)",
      "\u001b[36mCell\u001b[39m\u001b[36m \u001b[39m\u001b[32mIn[4]\u001b[39m\u001b[32m, line 2\u001b[39m\n\u001b[32m      1\u001b[39m \u001b[38;5;28;01mwith\u001b[39;00m engine.connect() \u001b[38;5;28;01mas\u001b[39;00m conn:\n\u001b[32m----> \u001b[39m\u001b[32m2\u001b[39m     \u001b[43mconn\u001b[49m\u001b[43m.\u001b[49m\u001b[43mexecute\u001b[49m\u001b[43m(\u001b[49m\u001b[43mtext\u001b[49m\u001b[43m(\u001b[49m\u001b[33;43m\"\u001b[39;49m\u001b[33;43mCREATE TABLE some_table (x int, y int)\u001b[39;49m\u001b[33;43m\"\u001b[39;49m\u001b[43m)\u001b[49m\u001b[43m)\u001b[49m\n\u001b[32m      3\u001b[39m     conn.execute(\n\u001b[32m      4\u001b[39m         text(\u001b[33m\"\u001b[39m\u001b[33mINSERT INTO some_table (x, y) VALUES (:x, :y)\u001b[39m\u001b[33m\"\u001b[39m),\n\u001b[32m      5\u001b[39m         [{\u001b[33m\"\u001b[39m\u001b[33mx\u001b[39m\u001b[33m\"\u001b[39m: \u001b[32m1\u001b[39m, \u001b[33m\"\u001b[39m\u001b[33my\u001b[39m\u001b[33m\"\u001b[39m: \u001b[32m1\u001b[39m}, {\u001b[33m\"\u001b[39m\u001b[33mx\u001b[39m\u001b[33m\"\u001b[39m: \u001b[32m2\u001b[39m, \u001b[33m\"\u001b[39m\u001b[33my\u001b[39m\u001b[33m\"\u001b[39m: \u001b[32m4\u001b[39m}],\n\u001b[32m      6\u001b[39m     )\n\u001b[32m      7\u001b[39m     conn.commit()\n",
      "\u001b[36mFile \u001b[39m\u001b[32m~/dev/github/binder-syntra/.venv/lib/python3.13/site-packages/sqlalchemy/engine/base.py:1419\u001b[39m, in \u001b[36mConnection.execute\u001b[39m\u001b[34m(self, statement, parameters, execution_options)\u001b[39m\n\u001b[32m   1417\u001b[39m     \u001b[38;5;28;01mraise\u001b[39;00m exc.ObjectNotExecutableError(statement) \u001b[38;5;28;01mfrom\u001b[39;00m\u001b[38;5;250m \u001b[39m\u001b[34;01merr\u001b[39;00m\n\u001b[32m   1418\u001b[39m \u001b[38;5;28;01melse\u001b[39;00m:\n\u001b[32m-> \u001b[39m\u001b[32m1419\u001b[39m     \u001b[38;5;28;01mreturn\u001b[39;00m \u001b[43mmeth\u001b[49m\u001b[43m(\u001b[49m\n\u001b[32m   1420\u001b[39m \u001b[43m        \u001b[49m\u001b[38;5;28;43mself\u001b[39;49m\u001b[43m,\u001b[49m\n\u001b[32m   1421\u001b[39m \u001b[43m        \u001b[49m\u001b[43mdistilled_parameters\u001b[49m\u001b[43m,\u001b[49m\n\u001b[32m   1422\u001b[39m \u001b[43m        \u001b[49m\u001b[43mexecution_options\u001b[49m\u001b[43m \u001b[49m\u001b[38;5;129;43;01mor\u001b[39;49;00m\u001b[43m \u001b[49m\u001b[43mNO_OPTIONS\u001b[49m\u001b[43m,\u001b[49m\n\u001b[32m   1423\u001b[39m \u001b[43m    \u001b[49m\u001b[43m)\u001b[49m\n",
      "\u001b[36mFile \u001b[39m\u001b[32m~/dev/github/binder-syntra/.venv/lib/python3.13/site-packages/sqlalchemy/sql/elements.py:526\u001b[39m, in \u001b[36mClauseElement._execute_on_connection\u001b[39m\u001b[34m(self, connection, distilled_params, execution_options)\u001b[39m\n\u001b[32m    524\u001b[39m     \u001b[38;5;28;01mif\u001b[39;00m TYPE_CHECKING:\n\u001b[32m    525\u001b[39m         \u001b[38;5;28;01massert\u001b[39;00m \u001b[38;5;28misinstance\u001b[39m(\u001b[38;5;28mself\u001b[39m, Executable)\n\u001b[32m--> \u001b[39m\u001b[32m526\u001b[39m     \u001b[38;5;28;01mreturn\u001b[39;00m \u001b[43mconnection\u001b[49m\u001b[43m.\u001b[49m\u001b[43m_execute_clauseelement\u001b[49m\u001b[43m(\u001b[49m\n\u001b[32m    527\u001b[39m \u001b[43m        \u001b[49m\u001b[38;5;28;43mself\u001b[39;49m\u001b[43m,\u001b[49m\u001b[43m \u001b[49m\u001b[43mdistilled_params\u001b[49m\u001b[43m,\u001b[49m\u001b[43m \u001b[49m\u001b[43mexecution_options\u001b[49m\n\u001b[32m    528\u001b[39m \u001b[43m    \u001b[49m\u001b[43m)\u001b[49m\n\u001b[32m    529\u001b[39m \u001b[38;5;28;01melse\u001b[39;00m:\n\u001b[32m    530\u001b[39m     \u001b[38;5;28;01mraise\u001b[39;00m exc.ObjectNotExecutableError(\u001b[38;5;28mself\u001b[39m)\n",
      "\u001b[36mFile \u001b[39m\u001b[32m~/dev/github/binder-syntra/.venv/lib/python3.13/site-packages/sqlalchemy/engine/base.py:1641\u001b[39m, in \u001b[36mConnection._execute_clauseelement\u001b[39m\u001b[34m(self, elem, distilled_parameters, execution_options)\u001b[39m\n\u001b[32m   1629\u001b[39m compiled_cache: Optional[CompiledCacheType] = execution_options.get(\n\u001b[32m   1630\u001b[39m     \u001b[33m\"\u001b[39m\u001b[33mcompiled_cache\u001b[39m\u001b[33m\"\u001b[39m, \u001b[38;5;28mself\u001b[39m.engine._compiled_cache\n\u001b[32m   1631\u001b[39m )\n\u001b[32m   1633\u001b[39m compiled_sql, extracted_params, cache_hit = elem._compile_w_cache(\n\u001b[32m   1634\u001b[39m     dialect=dialect,\n\u001b[32m   1635\u001b[39m     compiled_cache=compiled_cache,\n\u001b[32m   (...)\u001b[39m\u001b[32m   1639\u001b[39m     linting=\u001b[38;5;28mself\u001b[39m.dialect.compiler_linting | compiler.WARN_LINTING,\n\u001b[32m   1640\u001b[39m )\n\u001b[32m-> \u001b[39m\u001b[32m1641\u001b[39m ret = \u001b[38;5;28;43mself\u001b[39;49m\u001b[43m.\u001b[49m\u001b[43m_execute_context\u001b[49m\u001b[43m(\u001b[49m\n\u001b[32m   1642\u001b[39m \u001b[43m    \u001b[49m\u001b[43mdialect\u001b[49m\u001b[43m,\u001b[49m\n\u001b[32m   1643\u001b[39m \u001b[43m    \u001b[49m\u001b[43mdialect\u001b[49m\u001b[43m.\u001b[49m\u001b[43mexecution_ctx_cls\u001b[49m\u001b[43m.\u001b[49m\u001b[43m_init_compiled\u001b[49m\u001b[43m,\u001b[49m\n\u001b[32m   1644\u001b[39m \u001b[43m    \u001b[49m\u001b[43mcompiled_sql\u001b[49m\u001b[43m,\u001b[49m\n\u001b[32m   1645\u001b[39m \u001b[43m    \u001b[49m\u001b[43mdistilled_parameters\u001b[49m\u001b[43m,\u001b[49m\n\u001b[32m   1646\u001b[39m \u001b[43m    \u001b[49m\u001b[43mexecution_options\u001b[49m\u001b[43m,\u001b[49m\n\u001b[32m   1647\u001b[39m \u001b[43m    \u001b[49m\u001b[43mcompiled_sql\u001b[49m\u001b[43m,\u001b[49m\n\u001b[32m   1648\u001b[39m \u001b[43m    \u001b[49m\u001b[43mdistilled_parameters\u001b[49m\u001b[43m,\u001b[49m\n\u001b[32m   1649\u001b[39m \u001b[43m    \u001b[49m\u001b[43melem\u001b[49m\u001b[43m,\u001b[49m\n\u001b[32m   1650\u001b[39m \u001b[43m    \u001b[49m\u001b[43mextracted_params\u001b[49m\u001b[43m,\u001b[49m\n\u001b[32m   1651\u001b[39m \u001b[43m    \u001b[49m\u001b[43mcache_hit\u001b[49m\u001b[43m=\u001b[49m\u001b[43mcache_hit\u001b[49m\u001b[43m,\u001b[49m\n\u001b[32m   1652\u001b[39m \u001b[43m\u001b[49m\u001b[43m)\u001b[49m\n\u001b[32m   1653\u001b[39m \u001b[38;5;28;01mif\u001b[39;00m has_events:\n\u001b[32m   1654\u001b[39m     \u001b[38;5;28mself\u001b[39m.dispatch.after_execute(\n\u001b[32m   1655\u001b[39m         \u001b[38;5;28mself\u001b[39m,\n\u001b[32m   1656\u001b[39m         elem,\n\u001b[32m   (...)\u001b[39m\u001b[32m   1660\u001b[39m         ret,\n\u001b[32m   1661\u001b[39m     )\n",
      "\u001b[36mFile \u001b[39m\u001b[32m~/dev/github/binder-syntra/.venv/lib/python3.13/site-packages/sqlalchemy/engine/base.py:1846\u001b[39m, in \u001b[36mConnection._execute_context\u001b[39m\u001b[34m(self, dialect, constructor, statement, parameters, execution_options, *args, **kw)\u001b[39m\n\u001b[32m   1844\u001b[39m     \u001b[38;5;28;01mreturn\u001b[39;00m \u001b[38;5;28mself\u001b[39m._exec_insertmany_context(dialect, context)\n\u001b[32m   1845\u001b[39m \u001b[38;5;28;01melse\u001b[39;00m:\n\u001b[32m-> \u001b[39m\u001b[32m1846\u001b[39m     \u001b[38;5;28;01mreturn\u001b[39;00m \u001b[38;5;28;43mself\u001b[39;49m\u001b[43m.\u001b[49m\u001b[43m_exec_single_context\u001b[49m\u001b[43m(\u001b[49m\n\u001b[32m   1847\u001b[39m \u001b[43m        \u001b[49m\u001b[43mdialect\u001b[49m\u001b[43m,\u001b[49m\u001b[43m \u001b[49m\u001b[43mcontext\u001b[49m\u001b[43m,\u001b[49m\u001b[43m \u001b[49m\u001b[43mstatement\u001b[49m\u001b[43m,\u001b[49m\u001b[43m \u001b[49m\u001b[43mparameters\u001b[49m\n\u001b[32m   1848\u001b[39m \u001b[43m    \u001b[49m\u001b[43m)\u001b[49m\n",
      "\u001b[36mFile \u001b[39m\u001b[32m~/dev/github/binder-syntra/.venv/lib/python3.13/site-packages/sqlalchemy/engine/base.py:1986\u001b[39m, in \u001b[36mConnection._exec_single_context\u001b[39m\u001b[34m(self, dialect, context, statement, parameters)\u001b[39m\n\u001b[32m   1983\u001b[39m     result = context._setup_result_proxy()\n\u001b[32m   1985\u001b[39m \u001b[38;5;28;01mexcept\u001b[39;00m \u001b[38;5;167;01mBaseException\u001b[39;00m \u001b[38;5;28;01mas\u001b[39;00m e:\n\u001b[32m-> \u001b[39m\u001b[32m1986\u001b[39m     \u001b[38;5;28;43mself\u001b[39;49m\u001b[43m.\u001b[49m\u001b[43m_handle_dbapi_exception\u001b[49m\u001b[43m(\u001b[49m\n\u001b[32m   1987\u001b[39m \u001b[43m        \u001b[49m\u001b[43me\u001b[49m\u001b[43m,\u001b[49m\u001b[43m \u001b[49m\u001b[43mstr_statement\u001b[49m\u001b[43m,\u001b[49m\u001b[43m \u001b[49m\u001b[43meffective_parameters\u001b[49m\u001b[43m,\u001b[49m\u001b[43m \u001b[49m\u001b[43mcursor\u001b[49m\u001b[43m,\u001b[49m\u001b[43m \u001b[49m\u001b[43mcontext\u001b[49m\n\u001b[32m   1988\u001b[39m \u001b[43m    \u001b[49m\u001b[43m)\u001b[49m\n\u001b[32m   1990\u001b[39m \u001b[38;5;28;01mreturn\u001b[39;00m result\n",
      "\u001b[36mFile \u001b[39m\u001b[32m~/dev/github/binder-syntra/.venv/lib/python3.13/site-packages/sqlalchemy/engine/base.py:2355\u001b[39m, in \u001b[36mConnection._handle_dbapi_exception\u001b[39m\u001b[34m(self, e, statement, parameters, cursor, context, is_sub_exec)\u001b[39m\n\u001b[32m   2353\u001b[39m \u001b[38;5;28;01melif\u001b[39;00m should_wrap:\n\u001b[32m   2354\u001b[39m     \u001b[38;5;28;01massert\u001b[39;00m sqlalchemy_exception \u001b[38;5;129;01mis\u001b[39;00m \u001b[38;5;129;01mnot\u001b[39;00m \u001b[38;5;28;01mNone\u001b[39;00m\n\u001b[32m-> \u001b[39m\u001b[32m2355\u001b[39m     \u001b[38;5;28;01mraise\u001b[39;00m sqlalchemy_exception.with_traceback(exc_info[\u001b[32m2\u001b[39m]) \u001b[38;5;28;01mfrom\u001b[39;00m\u001b[38;5;250m \u001b[39m\u001b[34;01me\u001b[39;00m\n\u001b[32m   2356\u001b[39m \u001b[38;5;28;01melse\u001b[39;00m:\n\u001b[32m   2357\u001b[39m     \u001b[38;5;28;01massert\u001b[39;00m exc_info[\u001b[32m1\u001b[39m] \u001b[38;5;129;01mis\u001b[39;00m \u001b[38;5;129;01mnot\u001b[39;00m \u001b[38;5;28;01mNone\u001b[39;00m\n",
      "\u001b[36mFile \u001b[39m\u001b[32m~/dev/github/binder-syntra/.venv/lib/python3.13/site-packages/sqlalchemy/engine/base.py:1967\u001b[39m, in \u001b[36mConnection._exec_single_context\u001b[39m\u001b[34m(self, dialect, context, statement, parameters)\u001b[39m\n\u001b[32m   1965\u001b[39m                 \u001b[38;5;28;01mbreak\u001b[39;00m\n\u001b[32m   1966\u001b[39m     \u001b[38;5;28;01mif\u001b[39;00m \u001b[38;5;129;01mnot\u001b[39;00m evt_handled:\n\u001b[32m-> \u001b[39m\u001b[32m1967\u001b[39m         \u001b[38;5;28;43mself\u001b[39;49m\u001b[43m.\u001b[49m\u001b[43mdialect\u001b[49m\u001b[43m.\u001b[49m\u001b[43mdo_execute\u001b[49m\u001b[43m(\u001b[49m\n\u001b[32m   1968\u001b[39m \u001b[43m            \u001b[49m\u001b[43mcursor\u001b[49m\u001b[43m,\u001b[49m\u001b[43m \u001b[49m\u001b[43mstr_statement\u001b[49m\u001b[43m,\u001b[49m\u001b[43m \u001b[49m\u001b[43meffective_parameters\u001b[49m\u001b[43m,\u001b[49m\u001b[43m \u001b[49m\u001b[43mcontext\u001b[49m\n\u001b[32m   1969\u001b[39m \u001b[43m        \u001b[49m\u001b[43m)\u001b[49m\n\u001b[32m   1971\u001b[39m \u001b[38;5;28;01mif\u001b[39;00m \u001b[38;5;28mself\u001b[39m._has_events \u001b[38;5;129;01mor\u001b[39;00m \u001b[38;5;28mself\u001b[39m.engine._has_events:\n\u001b[32m   1972\u001b[39m     \u001b[38;5;28mself\u001b[39m.dispatch.after_cursor_execute(\n\u001b[32m   1973\u001b[39m         \u001b[38;5;28mself\u001b[39m,\n\u001b[32m   1974\u001b[39m         cursor,\n\u001b[32m   (...)\u001b[39m\u001b[32m   1978\u001b[39m         context.executemany,\n\u001b[32m   1979\u001b[39m     )\n",
      "\u001b[36mFile \u001b[39m\u001b[32m~/dev/github/binder-syntra/.venv/lib/python3.13/site-packages/sqlalchemy/engine/default.py:951\u001b[39m, in \u001b[36mDefaultDialect.do_execute\u001b[39m\u001b[34m(self, cursor, statement, parameters, context)\u001b[39m\n\u001b[32m    950\u001b[39m \u001b[38;5;28;01mdef\u001b[39;00m\u001b[38;5;250m \u001b[39m\u001b[34mdo_execute\u001b[39m(\u001b[38;5;28mself\u001b[39m, cursor, statement, parameters, context=\u001b[38;5;28;01mNone\u001b[39;00m):\n\u001b[32m--> \u001b[39m\u001b[32m951\u001b[39m     \u001b[43mcursor\u001b[49m\u001b[43m.\u001b[49m\u001b[43mexecute\u001b[49m\u001b[43m(\u001b[49m\u001b[43mstatement\u001b[49m\u001b[43m,\u001b[49m\u001b[43m \u001b[49m\u001b[43mparameters\u001b[49m\u001b[43m)\u001b[49m\n",
      "\u001b[31mOperationalError\u001b[39m: (sqlite3.OperationalError) table some_table already exists\n[SQL: CREATE TABLE some_table (x int, y int)]\n(Background on this error at: https://sqlalche.me/e/20/e3q8)"
     ]
    }
   ],
   "source": [
    "with engine.connect() as conn:\n",
    "    conn.execute(text(\"CREATE TABLE some_table (x int, y int)\"))\n",
    "    conn.execute(\n",
    "        text(\"INSERT INTO some_table (x, y) VALUES (:x, :y)\"),\n",
    "        [{\"x\": 1, \"y\": 1}, {\"x\": 2, \"y\": 4}],\n",
    "    )\n",
    "    conn.commit()"
   ]
  },
  {
   "cell_type": "markdown",
   "id": "048b0e7b-e4d7-478c-9294-025466f81d5a",
   "metadata": {},
   "source": [
    "Door de [`text`](https://docs.sqlalchemy.org/en/20/core/sqlelement.html#sqlalchemy.sql.expression.text) functie te gebruiken kunnen op een veilige en database-onafhankelijke manier variabelen (_bound parameters_) worden meegegeven.\n",
    "\n",
    "De stijl van transactie heet _commit-as-you-go_ omdat we expliciet the `commit()` methode moeten aanroepen.\n",
    "\n",
    "Daar tegenover staat de _begin-once_ stijl. Door een context manager met `engine.begin()` (i.p.v. `engine.connect()`) wordt er automatisch gecommit wanneer de context manager verlaten wordt."
   ]
  },
  {
   "cell_type": "code",
   "execution_count": 5,
   "id": "1a83788c-b2c0-4945-9e26-e479ccd7594a",
   "metadata": {},
   "outputs": [
    {
     "name": "stdout",
     "output_type": "stream",
     "text": [
      "2025-10-11 19:18:20,335 INFO sqlalchemy.engine.Engine BEGIN (implicit)\n",
      "2025-10-11 19:18:20,336 INFO sqlalchemy.engine.Engine INSERT INTO some_table (x, y) VALUES (?, ?)\n",
      "2025-10-11 19:18:20,336 INFO sqlalchemy.engine.Engine [generated in 0.00046s] [(6, 8), (9, 10)]\n",
      "2025-10-11 19:18:20,337 INFO sqlalchemy.engine.Engine COMMIT\n"
     ]
    }
   ],
   "source": [
    "with engine.begin() as conn:\n",
    "    conn.execute(\n",
    "        text(\"INSERT INTO some_table (x, y) VALUES (:x, :y)\"),\n",
    "        [{\"x\": 6, \"y\": 8}, {\"x\": 9, \"y\": 10}],\n",
    "    )"
   ]
  },
  {
   "cell_type": "markdown",
   "id": "2345e4a0-f32a-49d3-ab0b-add855040d4e",
   "metadata": {
    "editable": true,
    "slideshow": {
     "slide_type": ""
    },
    "tags": []
   },
   "source": [
    "Optioneel: inspecteer de database met de `sqlite3` CLI:\n",
    "\n",
    "```bash\n",
    "sqlite3 sqlite.db\n",
    ".tables\n",
    ".schema some_table\n",
    "select * from some_table;\n",
    "```"
   ]
  },
  {
   "cell_type": "markdown",
   "id": "9b4b3285-27f3-476c-b34e-952089a3cbb0",
   "metadata": {},
   "source": [
    "### SELECT"
   ]
  },
  {
   "cell_type": "code",
   "execution_count": 6,
   "id": "35c6cae4-4a8e-476d-828d-4927d25e6992",
   "metadata": {},
   "outputs": [
    {
     "name": "stdout",
     "output_type": "stream",
     "text": [
      "2025-10-11 19:23:10,737 INFO sqlalchemy.engine.Engine BEGIN (implicit)\n",
      "2025-10-11 19:23:10,738 INFO sqlalchemy.engine.Engine SELECT x, y from some_table\n",
      "2025-10-11 19:23:10,738 INFO sqlalchemy.engine.Engine [generated in 0.00100s] ()\n",
      "<class 'sqlalchemy.engine.cursor.CursorResult'>\n",
      "row is a <class 'sqlalchemy.engine.row.Row'>, row[0]=1, row.y=1\n",
      "row is a <class 'sqlalchemy.engine.row.Row'>, row[0]=2, row.y=4\n",
      "row is a <class 'sqlalchemy.engine.row.Row'>, row[0]=6, row.y=8\n",
      "row is a <class 'sqlalchemy.engine.row.Row'>, row[0]=9, row.y=10\n",
      "row is a <class 'sqlalchemy.engine.row.Row'>, row[0]=6, row.y=8\n",
      "row is a <class 'sqlalchemy.engine.row.Row'>, row[0]=9, row.y=10\n",
      "2025-10-11 19:23:10,739 INFO sqlalchemy.engine.Engine ROLLBACK\n"
     ]
    }
   ],
   "source": [
    "with engine.connect() as conn:\n",
    "    result = conn.execute(text(\"SELECT x, y from some_table\"))\n",
    "    print(type(result))\n",
    "    for row in result:\n",
    "        print(f\"row is a {type(row)}, row[0]={row[0]}, row.y={row.y}\")"
   ]
  },
  {
   "cell_type": "markdown",
   "id": "23129061-9af3-4aa9-9e75-93db4d9446b9",
   "metadata": {
    "editable": true,
    "slideshow": {
     "slide_type": ""
    },
    "tags": []
   },
   "source": [
    "Een [`Row`](https://docs.sqlalchemy.org/en/20/core/connections.html#sqlalchemy.engine.Row) object is vergelijkbaar met `NamedTuple`"
   ]
  },
  {
   "cell_type": "code",
   "execution_count": 7,
   "id": "8d8ed6d5-bc3d-4c36-8361-9347bc095b69",
   "metadata": {},
   "outputs": [
    {
     "name": "stdout",
     "output_type": "stream",
     "text": [
      "fake_row[0]=42, fake_row.y=9000\n"
     ]
    }
   ],
   "source": [
    "from typing import NamedTuple\n",
    "\n",
    "class FakeRow(NamedTuple):\n",
    "    x: int\n",
    "    y: int\n",
    "\n",
    "fake_row = FakeRow(42, 9000)\n",
    "print(f\"fake_row[0]={fake_row[0]}, fake_row.y={fake_row.y}\")"
   ]
  },
  {
   "cell_type": "markdown",
   "id": "95056374-1905-44d8-af20-99be4146e3b3",
   "metadata": {},
   "source": [
    "### SQL Parameters\n",
    "\n",
    "Gebruik **altijd** _bound parameters_. Zo niet, dan loops je risico op _SQL Injection_ en/of conversieproblemen. Door bound parameters te gebruiken zorgt SQLAlchemy automatisch voorr de juiste escaping, quoting, en binding."
   ]
  },
  {
   "cell_type": "code",
   "execution_count": 14,
   "id": "ef45768b-e222-4835-8894-3006ad78e4d7",
   "metadata": {},
   "outputs": [
    {
     "name": "stdout",
     "output_type": "stream",
     "text": [
      "2025-10-11 19:41:07,864 INFO sqlalchemy.engine.Engine BEGIN (implicit)\n",
      "2025-10-11 19:41:07,865 INFO sqlalchemy.engine.Engine SELECT y from some_table where x = 1 OR 1=1\n",
      "2025-10-11 19:41:07,865 INFO sqlalchemy.engine.Engine [cached since 412.6s ago] ()\n",
      "[(1,), (4,), (8,), (10,), (8,), (10,)]\n",
      "2025-10-11 19:41:07,866 INFO sqlalchemy.engine.Engine SELECT y from some_table where x = ?\n",
      "2025-10-11 19:41:07,866 INFO sqlalchemy.engine.Engine [generated in 0.00044s] ('1 OR 1=1',)\n",
      "[]\n",
      "2025-10-11 19:41:07,867 INFO sqlalchemy.engine.Engine ROLLBACK\n"
     ]
    }
   ],
   "source": [
    "with engine.connect() as conn:\n",
    "    # Zonder bound parameters:\n",
    "    untrusted_variable = \"1 OR 1=1\"\n",
    "    result = conn.execute(text(f\"SELECT y from some_table where x = {untrusted_variable}\"))\n",
    "    print(list(result))\n",
    "\n",
    "    # Met bound parameters:\n",
    "    result = conn.execute(text(\"SELECT y from some_table where x = :x\"), {\"x\": untrusted_variable})\n",
    "    print(list(result))"
   ]
  },
  {
   "cell_type": "markdown",
   "id": "8324caca-1b5a-4a5c-a0ba-0c8b7e39eedf",
   "metadata": {
    "editable": true,
    "slideshow": {
     "slide_type": ""
    },
    "tags": []
   },
   "source": [
    "## Metadata\n",
    "\n",
    "Wat is _metadata_?\n",
    "\n",
    "Metadata is de interne representatie van de database­structuur binnen SQLAlchemy, gebruik makend van Python objecten.\n",
    "\n",
    "Basis objecten `MetaData`, `Table` en `Column`.\n",
    "\n",
    "+- equivalent van DDL in de database (Data Definition Language).\n",
    "\n",
    "SQLAlchemy gebruikt deze metadata om SQL-statements te genereren, of je nu met Core of ORM werkt.\n",
    "\n",
    "```mermaid\n",
    "classDiagram\n",
    "        MetaData \"1\" *-- \"*\" Table\n",
    "        Table \"1\" *-- \"*\" Column\n",
    "```\n",
    "\n",
    "### Metadata met Core\n",
    "\n",
    "- [`Table`](https://docs.sqlalchemy.org/en/20/core/metadata.html#sqlalchemy.schema.Table)\n",
    "- [`Column`](https://docs.sqlalchemy.org/en/20/core/metadata.html#sqlalchemy.schema.Column)"
   ]
  },
  {
   "cell_type": "code",
   "execution_count": 15,
   "id": "7aa3687c-f9a9-41d0-9935-5a7a56aff546",
   "metadata": {},
   "outputs": [
    {
     "name": "stdout",
     "output_type": "stream",
     "text": [
      "<class 'sqlalchemy.sql.base.ReadOnlyColumnCollection'>\n",
      "Column('id', Integer(), table=<user_account>, primary_key=True, nullable=False)\n",
      "PrimaryKeyConstraint(Column('id', Integer(), table=<user_account>, primary_key=True, nullable=False))\n"
     ]
    }
   ],
   "source": [
    "from sqlalchemy import MetaData, Table, Column, Integer, String\n",
    "\n",
    "metadata = MetaData()\n",
    "\n",
    "user_table = Table(\n",
    "    \"user_account\",\n",
    "    metadata,\n",
    "    Column(\"id\", Integer, primary_key=True),\n",
    "    Column(\"name\", String(30)),\n",
    "    Column(\"fullname\", String),\n",
    ")\n",
    "\n",
    "print(type(user_table.c))\n",
    "print(repr(user_table.c.id))\n",
    "print(user_table.primary_key)"
   ]
  },
  {
   "cell_type": "markdown",
   "id": "122b226a-a249-4de2-bfa6-def16472ab9e",
   "metadata": {},
   "source": [
    "Een tweede table met een foreign key constaint.\n",
    "\n",
    "`ForeignKey` krijgt een `str` met de `table.column` referentie, niet een `Table` of `Column` object zelf! (`\"user_account.id\"` ipv `user_account.id`)"
   ]
  },
  {
   "cell_type": "code",
   "execution_count": 16,
   "id": "17e5d4b8-974f-4dbf-9d67-ae721ed49ef2",
   "metadata": {},
   "outputs": [],
   "source": [
    "from sqlalchemy import ForeignKey\n",
    "\n",
    "address_table = Table(\n",
    "    \"address\",\n",
    "    metadata,\n",
    "    Column(\"id\", Integer, primary_key=True),\n",
    "    Column(\"user_id\", ForeignKey(\"user_account.id\"), nullable=False),\n",
    "    Column(\"email_address\", String, nullable=False),\n",
    ")"
   ]
  },
  {
   "cell_type": "markdown",
   "id": "a89de2de-ae1c-480a-b31d-cbfcfd17e02b",
   "metadata": {},
   "source": [
    "Met de voorgaande voorbeelden verkrijgen we een Python-representatie van de tables, nog zonder dat die fysiek bestaan in de database.\n",
    "\n",
    "Met `metadata.create_all()` wordt voor alle informatie in de metadata aangepaste DDL uitgevoerd in de database."
   ]
  },
  {
   "cell_type": "code",
   "execution_count": 17,
   "id": "fbcad707-2ad0-4281-83ac-79cbdc554ad4",
   "metadata": {},
   "outputs": [
    {
     "name": "stdout",
     "output_type": "stream",
     "text": [
      "2025-10-11 19:55:33,708 INFO sqlalchemy.engine.Engine BEGIN (implicit)\n",
      "2025-10-11 19:55:33,709 INFO sqlalchemy.engine.Engine PRAGMA main.table_info(\"user_account\")\n",
      "2025-10-11 19:55:33,709 INFO sqlalchemy.engine.Engine [raw sql] ()\n",
      "2025-10-11 19:55:33,710 INFO sqlalchemy.engine.Engine PRAGMA temp.table_info(\"user_account\")\n",
      "2025-10-11 19:55:33,710 INFO sqlalchemy.engine.Engine [raw sql] ()\n",
      "2025-10-11 19:55:33,711 INFO sqlalchemy.engine.Engine PRAGMA main.table_info(\"address\")\n",
      "2025-10-11 19:55:33,711 INFO sqlalchemy.engine.Engine [raw sql] ()\n",
      "2025-10-11 19:55:33,712 INFO sqlalchemy.engine.Engine PRAGMA temp.table_info(\"address\")\n",
      "2025-10-11 19:55:33,712 INFO sqlalchemy.engine.Engine [raw sql] ()\n",
      "2025-10-11 19:55:33,713 INFO sqlalchemy.engine.Engine \n",
      "CREATE TABLE user_account (\n",
      "\tid INTEGER NOT NULL, \n",
      "\tname VARCHAR(30), \n",
      "\tfullname VARCHAR, \n",
      "\tPRIMARY KEY (id)\n",
      ")\n",
      "\n",
      "\n",
      "2025-10-11 19:55:33,713 INFO sqlalchemy.engine.Engine [no key 0.00033s] ()\n",
      "2025-10-11 19:55:33,715 INFO sqlalchemy.engine.Engine \n",
      "CREATE TABLE address (\n",
      "\tid INTEGER NOT NULL, \n",
      "\tuser_id INTEGER NOT NULL, \n",
      "\temail_address VARCHAR NOT NULL, \n",
      "\tPRIMARY KEY (id), \n",
      "\tFOREIGN KEY(user_id) REFERENCES user_account (id)\n",
      ")\n",
      "\n",
      "\n",
      "2025-10-11 19:55:33,716 INFO sqlalchemy.engine.Engine [no key 0.00042s] ()\n",
      "2025-10-11 19:55:33,717 INFO sqlalchemy.engine.Engine COMMIT\n"
     ]
    }
   ],
   "source": [
    "metadata.create_all(engine)"
   ]
  },
  {
   "cell_type": "markdown",
   "id": "e1257445-49ae-4a7e-90cc-67141266a84a",
   "metadata": {},
   "source": [
    "`metadata.create_all` is _idempotent_, wat wil zeggen dat je het verschillende keren kan uitvoeren zonder fouten te krijgen."
   ]
  },
  {
   "cell_type": "code",
   "execution_count": 14,
   "id": "da2d0e47-7568-484f-b716-66f42db99031",
   "metadata": {},
   "outputs": [
    {
     "name": "stdout",
     "output_type": "stream",
     "text": [
      "2025-08-10 15:02:43,516 INFO sqlalchemy.engine.Engine BEGIN (implicit)\n",
      "2025-08-10 15:02:43,516 INFO sqlalchemy.engine.Engine PRAGMA main.table_info(\"user_account\")\n",
      "2025-08-10 15:02:43,517 INFO sqlalchemy.engine.Engine [raw sql] ()\n",
      "2025-08-10 15:02:43,517 INFO sqlalchemy.engine.Engine PRAGMA main.table_info(\"address\")\n",
      "2025-08-10 15:02:43,517 INFO sqlalchemy.engine.Engine [raw sql] ()\n",
      "2025-08-10 15:02:43,518 INFO sqlalchemy.engine.Engine COMMIT\n"
     ]
    }
   ],
   "source": [
    "metadata.create_all(engine)"
   ]
  },
  {
   "cell_type": "markdown",
   "id": "35db4c72-b24c-4b6e-8836-921a1c747ece",
   "metadata": {},
   "source": [
    "Met `metadata.drop_all` worden de tables opnieuw verwijderd uit de database.Merk op dat dit in de juiste (omgekeerde) volgorde gebeurt."
   ]
  },
  {
   "cell_type": "code",
   "execution_count": 18,
   "id": "d231f2fd-e2bd-4f8d-84c7-a8bb431f11dd",
   "metadata": {},
   "outputs": [
    {
     "name": "stdout",
     "output_type": "stream",
     "text": [
      "2025-10-11 19:57:37,127 INFO sqlalchemy.engine.Engine BEGIN (implicit)\n",
      "2025-10-11 19:57:37,127 INFO sqlalchemy.engine.Engine PRAGMA main.table_info(\"user_account\")\n",
      "2025-10-11 19:57:37,128 INFO sqlalchemy.engine.Engine [raw sql] ()\n",
      "2025-10-11 19:57:37,128 INFO sqlalchemy.engine.Engine PRAGMA main.table_info(\"address\")\n",
      "2025-10-11 19:57:37,129 INFO sqlalchemy.engine.Engine [raw sql] ()\n",
      "2025-10-11 19:57:37,129 INFO sqlalchemy.engine.Engine \n",
      "DROP TABLE address\n",
      "2025-10-11 19:57:37,130 INFO sqlalchemy.engine.Engine [no key 0.00034s] ()\n",
      "2025-10-11 19:57:37,131 INFO sqlalchemy.engine.Engine \n",
      "DROP TABLE user_account\n",
      "2025-10-11 19:57:37,131 INFO sqlalchemy.engine.Engine [no key 0.00029s] ()\n",
      "2025-10-11 19:57:37,132 INFO sqlalchemy.engine.Engine COMMIT\n"
     ]
    }
   ],
   "source": [
    "metadata.drop_all(engine)"
   ]
  },
  {
   "cell_type": "markdown",
   "id": "4939ff69-4e96-4f48-8230-c376cbe4b394",
   "metadata": {},
   "source": [
    "### Metdata met ORM\n",
    "\n",
    "#### Mapped Class\n",
    "\n",
    "Conversie (_mapping_) tussen _data_ uit een database en objecten in een OO taal zoals Python.\n",
    "\n",
    "Net zoals bij Core wordt een `Metadata` object gebruikt waarin de verschillende `Table` objecten worden bijgehouden. Dit (enkel) `Metadata` object wordt automatisch aangemaakt door `sqlalchemy.orm.DeclarativeBase` te subclassen in een eigen `Base` class. Elke Mapped Class wordt dan een subclass van `Base` en deelt daarmee dezelfde `Metadata`."
   ]
  },
  {
   "cell_type": "code",
   "execution_count": 1,
   "id": "e9837994-e6cd-475d-8538-ef1f866e27d0",
   "metadata": {},
   "outputs": [
    {
     "name": "stdout",
     "output_type": "stream",
     "text": [
      "MetaData()\n"
     ]
    },
    {
     "ename": "NameError",
     "evalue": "name 'String' is not defined",
     "output_type": "error",
     "traceback": [
      "\u001b[31m---------------------------------------------------------------------------\u001b[39m",
      "\u001b[31mNameError\u001b[39m                                 Traceback (most recent call last)",
      "\u001b[36mCell\u001b[39m\u001b[36m \u001b[39m\u001b[32mIn[1]\u001b[39m\u001b[32m, line 8\u001b[39m\n\u001b[32m      4\u001b[39m     \u001b[38;5;28;01mpass\u001b[39;00m\n\u001b[32m      6\u001b[39m \u001b[38;5;28mprint\u001b[39m(Base.metadata)\n\u001b[32m----> \u001b[39m\u001b[32m8\u001b[39m \u001b[38;5;28;43;01mclass\u001b[39;49;00m\u001b[38;5;250;43m \u001b[39;49m\u001b[34;43;01mUser\u001b[39;49;00m\u001b[43m(\u001b[49m\u001b[43mBase\u001b[49m\u001b[43m)\u001b[49m\u001b[43m:\u001b[49m\n\u001b[32m      9\u001b[39m \u001b[38;5;250;43m    \u001b[39;49m\u001b[33;43;03m\"\"\"This Mapped Class represents a single user.\"\"\"\u001b[39;49;00m\n\u001b[32m     10\u001b[39m \u001b[43m    \u001b[49m\u001b[43m__tablename__\u001b[49m\u001b[43m \u001b[49m\u001b[43m=\u001b[49m\u001b[43m \u001b[49m\u001b[33;43m\"\u001b[39;49m\u001b[33;43muser_account\u001b[39;49m\u001b[33;43m\"\u001b[39;49m\n",
      "\u001b[36mCell\u001b[39m\u001b[36m \u001b[39m\u001b[32mIn[1]\u001b[39m\u001b[32m, line 13\u001b[39m, in \u001b[36mUser\u001b[39m\u001b[34m()\u001b[39m\n\u001b[32m     10\u001b[39m __tablename__ = \u001b[33m\"\u001b[39m\u001b[33muser_account\u001b[39m\u001b[33m\"\u001b[39m\n\u001b[32m     12\u001b[39m \u001b[38;5;28mid\u001b[39m: Mapped[\u001b[38;5;28mint\u001b[39m] = mapped_column(primary_key=\u001b[38;5;28;01mTrue\u001b[39;00m)\n\u001b[32m---> \u001b[39m\u001b[32m13\u001b[39m name: Mapped[\u001b[38;5;28mstr\u001b[39m] = mapped_column(\u001b[43mString\u001b[49m(\u001b[32m30\u001b[39m))\n\u001b[32m     14\u001b[39m fullname: Mapped[\u001b[38;5;28mstr\u001b[39m]\n",
      "\u001b[31mNameError\u001b[39m: name 'String' is not defined"
     ]
    }
   ],
   "source": [
    "from sqlalchemy.orm import DeclarativeBase, Mapped, mapped_column\n",
    "\n",
    "class Base(DeclarativeBase):\n",
    "    pass\n",
    "\n",
    "print(Base.metadata)\n",
    "\n",
    "class User(Base):\n",
    "    \"\"\"This Mapped Class represents a single user.\"\"\"\n",
    "    __tablename__ = \"user_account\"\n",
    "\n",
    "    id: Mapped[int] = mapped_column(primary_key=True)\n",
    "    name: Mapped[str] = mapped_column(String(30))\n",
    "    fullname: Mapped[str]"
   ]
  },
  {
   "cell_type": "markdown",
   "id": "e676c0c0-c5c8-4321-8851-8d4b057c558b",
   "metadata": {},
   "source": [
    "**Belangrijk**:\n",
    "- Met Core _gebruiken_ we de bestaande `sqlalchemy.Table` class en maken we direct objecten aan.\n",
    "  - Elk object = 1 database table\n",
    "  - _Imperatief_: we definiëren precies hoe de database structuur er uit moet zien\n",
    "- Met ORM maken we onze eigen _nieuwe_ classes (mapped classes).\n",
    "  - Elke class = 1 table\n",
    "  - Elk object = 1 row. We hebben nog geen objecten gemaakt.\n",
    "  - _Declaratief_: we definiëren wat voor objecten we willen en laten SQLAlchemy de overeenkomstige database structuur opstellen\n",
    " \n",
    "Een `DeclarativeBase` subclass maakt automatisch een `Table` class aan (herinnering: ORM _gebruikt_ Core!):"
   ]
  },
  {
   "cell_type": "code",
   "execution_count": null,
   "id": "3dc599f9-83c7-4fc6-a3c1-55a4f086cb5e",
   "metadata": {},
   "outputs": [
    {
     "name": "stdout",
     "output_type": "stream",
     "text": [
      "Table('user_account', MetaData(), Column('id', Integer(), table=<user_account>, primary_key=True, nullable=False), Column('name', String(length=30), table=<user_account>, nullable=False), Column('fullname', String(), table=<user_account>, nullable=False), schema=None)\n"
     ]
    }
   ],
   "source": [
    "print(repr(User.__table__))"
   ]
  },
  {
   "cell_type": "code",
   "execution_count": null,
   "id": "4c61eef4-5d49-4d3b-be0a-caab92f97eec",
   "metadata": {},
   "outputs": [],
   "source": [
    "class Address(Base):\n",
    "    __tablename__ = \"address\"\n",
    "\n",
    "    id: Mapped[int] = mapped_column(primary_key=True)\n",
    "    user_id: Mapped[int] = mapped_column(ForeignKey(\"user_account.id\"))\n",
    "    email_address: Mapped[str]"
   ]
  },
  {
   "cell_type": "markdown",
   "id": "df217f1e-43ef-44c0-b17a-ad8e5db5370e",
   "metadata": {},
   "source": [
    "Net als bij ORM zal `metadata.create_all()` de database DDL genereren en uitvoeren. Via de `Base` class krijgen we toegang tot het `metadata` object."
   ]
  },
  {
   "cell_type": "code",
   "execution_count": null,
   "id": "045cc02a-ff54-4f77-a89f-179764c132d8",
   "metadata": {},
   "outputs": [
    {
     "name": "stdout",
     "output_type": "stream",
     "text": [
      "2025-10-12 09:16:48,052 INFO sqlalchemy.engine.Engine BEGIN (implicit)\n",
      "2025-10-12 09:16:48,053 INFO sqlalchemy.engine.Engine PRAGMA main.table_info(\"user_account\")\n",
      "2025-10-12 09:16:48,053 INFO sqlalchemy.engine.Engine [raw sql] ()\n",
      "2025-10-12 09:16:48,054 INFO sqlalchemy.engine.Engine PRAGMA main.table_info(\"address\")\n",
      "2025-10-12 09:16:48,055 INFO sqlalchemy.engine.Engine [raw sql] ()\n",
      "2025-10-12 09:16:48,056 INFO sqlalchemy.engine.Engine COMMIT\n"
     ]
    }
   ],
   "source": [
    "Base.metadata.create_all(engine)"
   ]
  },
  {
   "cell_type": "markdown",
   "id": "ee76e49f-ee78-49b4-af48-33c82ee05d8a",
   "metadata": {},
   "source": [
    "## Data verwerken met Core\n",
    "In dit hoofdstuk bekijken we kort hoe SQLAlchemy Core gebruikt kan worden om met de database te werken. Ook al zijn we uiteindelijk van plan ORM te gebruiken is het interessant ook te begrijpen hoe je rechtstreeks de onderliggende Core kan werken. Heel wat concepten komen bovendien terug in ORM.\n",
    "\n",
    "Waar we met `Metadata` en de `Table` objecten een abstractie kregen van de DDL, zo krijgen we hier een abstractie van de DML (Data Manipulation Language).\n",
    "\n",
    "### INSERT"
   ]
  },
  {
   "cell_type": "code",
   "execution_count": 25,
   "id": "2b79bd97-92da-4326-9248-6644ec6f1e6d",
   "metadata": {},
   "outputs": [
    {
     "name": "stdout",
     "output_type": "stream",
     "text": [
      "<class 'sqlalchemy.sql.dml.Insert'>\n",
      "INSERT INTO user_account (name, fullname) VALUES (:name, :fullname)\n"
     ]
    }
   ],
   "source": [
    "from sqlalchemy import insert\n",
    "\n",
    "\"\"\"\n",
    "Ter herinnering, user_table is een object dat op een imperatieve manier\n",
    "de 'user_table' tabel uit de database voorstelt:\n",
    "\n",
    "user_table = Table(\n",
    "    \"user_account\",\n",
    "    metadata,\n",
    "    Column(\"id\", Integer, primary_key=True),\n",
    "    Column(\"name\", String(30)),\n",
    "    Column(\"fullname\", String),\n",
    ")\n",
    "\"\"\"\n",
    "\n",
    "statement = insert(user_table).values({\"name\": \"wwhite\", \"fullname\": \"Walter White\"})\n",
    "print(type(statement))\n",
    "print(statement)"
   ]
  },
  {
   "cell_type": "markdown",
   "id": "dbb20cd9-519b-42d4-968b-e88adaa06b05",
   "metadata": {},
   "source": [
    "Met de `sqlalchemy.insert` functie en een `Table` object kunnen we op een programmatische manier een `INSERT` commando opstellen.\n",
    "\n",
    "Net als na het aanmaken van een `Table` object is er enkel door het aanmaken van een `Insert` object nog geen interactie met de database. Er is immers nog geen gebruik gemaakt van de `engine`.\n",
    "\n",
    "Uitvoeren gebeurt op dezelfde manier als het uitvoeren van zelfgeschreven SQL."
   ]
  },
  {
   "cell_type": "code",
   "execution_count": 26,
   "id": "96b38cb0-72db-4571-8bfa-064185914629",
   "metadata": {},
   "outputs": [
    {
     "name": "stdout",
     "output_type": "stream",
     "text": [
      "2025-10-12 10:05:14,033 INFO sqlalchemy.engine.Engine BEGIN (implicit)\n",
      "2025-10-12 10:05:14,033 INFO sqlalchemy.engine.Engine INSERT INTO user_account (name, fullname) VALUES (?, ?)\n",
      "2025-10-12 10:05:14,034 INFO sqlalchemy.engine.Engine [generated in 0.00151s] ('wwhite', 'Walter White')\n",
      "2025-10-12 10:05:14,036 INFO sqlalchemy.engine.Engine COMMIT\n",
      "<class 'sqlalchemy.engine.cursor.CursorResult'>\n",
      "<sqlalchemy.engine.cursor.CursorResult object at 0x10c950980>\n",
      "(1,)\n"
     ]
    }
   ],
   "source": [
    "with engine.connect() as conn:\n",
    "    # Ter vergelijking, met 'raw SQL':\n",
    "    # result = conn.execute(\n",
    "    #     text(\"INSERT INTO user_account (name, fullname) VALUES (:name, :fullname)\"),\n",
    "    #     {\"name\": \"wwhite\", \"fullname\": \"Walter White\"},\n",
    "    # )\n",
    "\n",
    "    statement = insert(user_table).values({\"name\": \"wwhite\", \"fullname\": \"Walter White\"})\n",
    "    result = conn.execute(statement)\n",
    "    conn.commit()\n",
    "\n",
    "    print(result)\n",
    "    print(result.inserted_primary_key)"
   ]
  },
  {
   "cell_type": "code",
   "execution_count": null,
   "id": "43a5b5dc-de51-48f6-8c7e-24ac536b8513",
   "metadata": {
    "editable": true,
    "slideshow": {
     "slide_type": ""
    },
    "tags": []
   },
   "outputs": [
    {
     "name": "stdout",
     "output_type": "stream",
     "text": [
      "2025-08-10 15:02:43,603 INFO sqlalchemy.engine.Engine BEGIN (implicit)\n",
      "2025-08-10 15:02:43,603 INFO sqlalchemy.engine.Engine INSERT INTO user_account (name, fullname) VALUES (?, ?)\n",
      "2025-08-10 15:02:43,604 INFO sqlalchemy.engine.Engine [cached since 0.007483s ago] ('jpinkman', 'Jesse Pinkman')\n",
      "2025-08-10 15:02:43,604 INFO sqlalchemy.engine.Engine COMMIT\n"
     ]
    }
   ],
   "source": [
    "statement = user_table.insert().values({\"name\": \"jpinkman\", \"fullname\": \"Jesse Pinkman\"})\n",
    "with engine.begin() as conn:\n",
    "    conn.execute(statement)"
   ]
  },
  {
   "cell_type": "markdown",
   "id": "bf1beb5b-b7ee-4389-abc9-43ed5f6d8caa",
   "metadata": {
    "editable": true,
    "slideshow": {
     "slide_type": ""
    },
    "tags": []
   },
   "source": [
    "### SELECT\n",
    "Op gelijkaardige wijze kan met de `sqlalchemy.select` functie een `SELECT` statement samengesteld worden."
   ]
  },
  {
   "cell_type": "code",
   "execution_count": 29,
   "id": "dbd2c009",
   "metadata": {},
   "outputs": [
    {
     "name": "stdout",
     "output_type": "stream",
     "text": [
      "<class 'sqlalchemy.sql.selectable.Select'>\n",
      "SELECT user_account.id, user_account.name, user_account.fullname \n",
      "FROM user_account\n"
     ]
    }
   ],
   "source": [
    "from sqlalchemy import select\n",
    "\n",
    "statement = select(user_table)\n",
    "print(type(statement))\n",
    "print(statement)"
   ]
  },
  {
   "cell_type": "markdown",
   "id": "7ccce885",
   "metadata": {},
   "source": [
    "#### WHERE\n",
    "De `select` functie geeft een `Select` object terug. Dit object heeft verschillende methodes waarmee de query verder verfijnd en aangepast kan worden, bijvoorbeeld `.where()`. Elke van deze functies geeft opnieuw een `Select` object terug. Op die manier kan de gewenste query samengesteld worden door verschillende functies aan elkaar te hangen (_chaining_)."
   ]
  },
  {
   "cell_type": "code",
   "execution_count": 30,
   "id": "87e11815-38db-4603-b4ab-3fa79f8b760e",
   "metadata": {},
   "outputs": [
    {
     "name": "stdout",
     "output_type": "stream",
     "text": [
      "<class 'sqlalchemy.sql.selectable.Select'>\n",
      "2025-10-12 10:21:51,686 INFO sqlalchemy.engine.Engine BEGIN (implicit)\n",
      "2025-10-12 10:21:51,687 INFO sqlalchemy.engine.Engine SELECT user_account.id, user_account.name, user_account.fullname \n",
      "FROM user_account \n",
      "WHERE user_account.name = ?\n",
      "2025-10-12 10:21:51,687 INFO sqlalchemy.engine.Engine [generated in 0.00116s] ('wwhite',)\n",
      "<class 'sqlalchemy.engine.cursor.CursorResult'>\n",
      "<class 'sqlalchemy.engine.row.Row'>\n",
      "(1, 'wwhite', 'Walter White')\n",
      "2025-10-12 10:21:51,689 INFO sqlalchemy.engine.Engine ROLLBACK\n"
     ]
    }
   ],
   "source": [
    "from sqlalchemy import select\n",
    "\n",
    "statement = select(user_table).where(user_table.c.name == \"wwhite\")\n",
    "print(type(statement))\n",
    "\n",
    "with engine.connect() as conn:\n",
    "    result = conn.execute(statement)\n",
    "    print(type(result))\n",
    "    for row in result:\n",
    "        print(type(row))\n",
    "        print(row)"
   ]
  },
  {
   "cell_type": "markdown",
   "id": "4f7c89f1-0a6d-4cff-b4ff-8641167f959e",
   "metadata": {},
   "source": [
    "Merk op dat het resultaat van de `execute` functie hetzelfde is als bij raw SQL, een `CursorResult` met `Row` objecten.\n",
    "\n",
    "\n",
    "Als we specifieke kolommen van een tabel willen selecteren kan het `.c` attribuut van het `Table` object gebruikt worden. Dit kan gezien worden als een NamedTuple met alle `Column` objecten."
   ]
  },
  {
   "cell_type": "code",
   "execution_count": 31,
   "id": "ec611ccb-665e-47e2-a4a8-a87548751c93",
   "metadata": {},
   "outputs": [
    {
     "name": "stdout",
     "output_type": "stream",
     "text": [
      "ReadOnlyColumnCollection(user_account.id, user_account.name, user_account.fullname)\n",
      "2025-10-12 10:30:48,322 INFO sqlalchemy.engine.Engine BEGIN (implicit)\n",
      "2025-10-12 10:30:48,323 INFO sqlalchemy.engine.Engine SELECT user_account.fullname \n",
      "FROM user_account\n",
      "2025-10-12 10:30:48,323 INFO sqlalchemy.engine.Engine [generated in 0.00088s] ()\n",
      "('Walter White',)\n",
      "2025-10-12 10:30:48,324 INFO sqlalchemy.engine.Engine ROLLBACK\n"
     ]
    }
   ],
   "source": [
    "print(user_table.c)\n",
    "\n",
    "statement = select(user_table.c.fullname)\n",
    "with engine.connect() as conn:\n",
    "    result = conn.execute(statement)\n",
    "    for row in result:\n",
    "        print(row)"
   ]
  },
  {
   "cell_type": "markdown",
   "id": "10291e42-7259-4caa-be09-eced15ded095",
   "metadata": {},
   "source": [
    "`AND`\n",
    "- Impliciet door `where()` chaining\n",
    "- Impliciet door extra argument(en) in `where()`\n",
    "- Expliciet met `and_()`"
   ]
  },
  {
   "cell_type": "code",
   "execution_count": 28,
   "id": "0abc5663-1be4-4f03-96bb-5c122f66619b",
   "metadata": {},
   "outputs": [
    {
     "name": "stdout",
     "output_type": "stream",
     "text": [
      "SELECT user_account.id, user_account.name, user_account.fullname \n",
      "FROM user_account \n",
      "WHERE user_account.name = :name_1 AND user_account.fullname = :fullname_1\n",
      "SELECT user_account.id, user_account.name, user_account.fullname \n",
      "FROM user_account \n",
      "WHERE user_account.name = :name_1 AND user_account.fullname = :fullname_1\n",
      "SELECT user_account.id, user_account.name, user_account.fullname \n",
      "FROM user_account \n",
      "WHERE user_account.name = :name_1 AND user_account.fullname = :fullname_1\n",
      "True\n"
     ]
    }
   ],
   "source": [
    "from sqlalchemy import and_\n",
    "\n",
    "statement1 = select(user_table).where(user_table.c.name == \"wwhite\").where(user_table.c.fullname == \"Walter White\")\n",
    "print(statement1)\n",
    "\n",
    "statement2 = select(user_table).where(user_table.c.name == \"wwhite\", user_table.c.fullname == \"Walter White\")\n",
    "print(statement2)\n",
    "\n",
    "statement3 = select(user_table).where(and_(user_table.c.name == \"wwhite\", user_table.c.fullname == \"Walter White\"))\n",
    "print(statement3)\n",
    "\n",
    "print(str(statement1) == str(statement2) == str(statement3))"
   ]
  },
  {
   "cell_type": "markdown",
   "id": "2ff7722c-4174-4b22-8cce-5f1861a4652a",
   "metadata": {},
   "source": [
    "`OR`\n",
    "\n",
    "Bonus: [`all()`](https://docs.sqlalchemy.org/en/20/core/connections.html#sqlalchemy.engine.CursorResult.all) en [`scalars()`](https://docs.sqlalchemy.org/en/20/core/connections.html#sqlalchemy.engine.CursorResult.scalars)"
   ]
  },
  {
   "cell_type": "code",
   "execution_count": 29,
   "id": "eed7cc6a-6d7b-4db9-94ff-e5018bbd2cf1",
   "metadata": {
    "editable": true,
    "slideshow": {
     "slide_type": ""
    },
    "tags": []
   },
   "outputs": [
    {
     "name": "stdout",
     "output_type": "stream",
     "text": [
      "SELECT user_account.name \n",
      "FROM user_account \n",
      "WHERE user_account.name = :name_1 AND user_account.fullname = :fullname_1 OR user_account.name = :name_2\n",
      "2025-08-10 15:02:43,621 INFO sqlalchemy.engine.Engine BEGIN (implicit)\n",
      "2025-08-10 15:02:43,622 INFO sqlalchemy.engine.Engine SELECT user_account.name \n",
      "FROM user_account \n",
      "WHERE user_account.name = ? AND user_account.fullname = ? OR user_account.name = ?\n",
      "2025-08-10 15:02:43,622 INFO sqlalchemy.engine.Engine [generated in 0.00080s] ('wwhite', 'Walter White', 'jpinkman')\n",
      "[('wwhite',), ('jpinkman',)]\n",
      "2025-08-10 15:02:43,622 INFO sqlalchemy.engine.Engine SELECT user_account.name \n",
      "FROM user_account \n",
      "WHERE user_account.name = ? AND user_account.fullname = ? OR user_account.name = ?\n",
      "2025-08-10 15:02:43,623 INFO sqlalchemy.engine.Engine [cached since 0.001535s ago] ('wwhite', 'Walter White', 'jpinkman')\n",
      "['wwhite', 'jpinkman']\n",
      "2025-08-10 15:02:43,623 INFO sqlalchemy.engine.Engine ROLLBACK\n"
     ]
    }
   ],
   "source": [
    "from sqlalchemy import or_\n",
    "\n",
    "statement = select(user_table.c.name).where(or_(and_(user_table.c.name == \"wwhite\", user_table.c.fullname == \"Walter White\"), user_table.c.name == \"jpinkman\"))\n",
    "print(statement)\n",
    "with engine.connect() as conn:\n",
    "    result = conn.execute(statement)\n",
    "    print(result.all())\n",
    "\n",
    "    result = conn.execute(statement)\n",
    "    print(result.scalars().all())"
   ]
  },
  {
   "cell_type": "markdown",
   "id": "bf5505c5-9212-4043-93b3-ae1d2c8f45a3",
   "metadata": {},
   "source": [
    "#### INSERT FROM SELECT"
   ]
  },
  {
   "cell_type": "code",
   "execution_count": 30,
   "id": "09031634-10e1-4cf1-ac62-2ba28eaaa3f7",
   "metadata": {
    "editable": true,
    "slideshow": {
     "slide_type": ""
    },
    "tags": []
   },
   "outputs": [
    {
     "name": "stdout",
     "output_type": "stream",
     "text": [
      "2025-08-10 15:02:43,626 INFO sqlalchemy.engine.Engine BEGIN (implicit)\n",
      "2025-08-10 15:02:43,627 INFO sqlalchemy.engine.Engine INSERT INTO address (user_id, email_address) SELECT user_account.id, user_account.name || ? AS anon_1 \n",
      "FROM user_account\n",
      "2025-08-10 15:02:43,627 INFO sqlalchemy.engine.Engine [generated in 0.00035s] ('@gmail.com',)\n",
      "2025-08-10 15:02:43,628 INFO sqlalchemy.engine.Engine INSERT INTO address (user_id, email_address) SELECT user_account.id, user_account.name || ? AS anon_1 \n",
      "FROM user_account\n",
      "2025-08-10 15:02:43,628 INFO sqlalchemy.engine.Engine [cached since 0.001245s ago] ('@amc.com',)\n",
      "2025-08-10 15:02:43,628 INFO sqlalchemy.engine.Engine COMMIT\n"
     ]
    }
   ],
   "source": [
    "select_stmt = select(user_table.c.id, user_table.c.name + \"@gmail.com\")\n",
    "insert_stmt = insert(address_table).from_select([\"user_id\", \"email_address\"], select_stmt)\n",
    "\n",
    "with engine.begin() as conn:\n",
    "    conn.execute(insert_stmt)\n",
    "\n",
    "    select_stmt = select(user_table.c.id, user_table.c.name + \"@amc.com\")\n",
    "    insert_stmt = insert(address_table).from_select([\"user_id\", \"email_address\"], select_stmt)\n",
    "    conn.execute(insert_stmt)"
   ]
  },
  {
   "cell_type": "markdown",
   "id": "d76cf675-0752-41a8-8927-eb3f373ef08b",
   "metadata": {
    "editable": true,
    "slideshow": {
     "slide_type": ""
    },
    "tags": []
   },
   "source": [
    "#### FROM en JOIN\n",
    "\n",
    "- FROM is impliciet voor alle tables gebruikt `select()` argumenten.\n",
    "- Probleem met het volgende?"
   ]
  },
  {
   "cell_type": "code",
   "execution_count": 31,
   "id": "558557d5-439f-49da-b679-a7a8cdabf666",
   "metadata": {},
   "outputs": [
    {
     "name": "stdout",
     "output_type": "stream",
     "text": [
      "2025-08-10 15:02:43,631 INFO sqlalchemy.engine.Engine BEGIN (implicit)\n",
      "2025-08-10 15:02:43,632 INFO sqlalchemy.engine.Engine SELECT user_account.name, address.email_address \n",
      "FROM user_account, address\n",
      "2025-08-10 15:02:43,632 INFO sqlalchemy.engine.Engine [generated in 0.00063s] ()\n",
      "[('wwhite', 'wwhite@gmail.com'), ('wwhite', 'jpinkman@gmail.com'), ('wwhite', 'wwhite@amc.com'), ('wwhite', 'jpinkman@amc.com'), ('jpinkman', 'wwhite@gmail.com'), ('jpinkman', 'jpinkman@gmail.com'), ('jpinkman', 'wwhite@amc.com'), ('jpinkman', 'jpinkman@amc.com')]\n",
      "2025-08-10 15:02:43,633 INFO sqlalchemy.engine.Engine ROLLBACK\n"
     ]
    },
    {
     "name": "stderr",
     "output_type": "stream",
     "text": [
      "/var/folders/rf/vfsrnd6n627_7m0qqw5mmhnm0000gq/T/ipykernel_38831/1629152539.py:4: SAWarning: SELECT statement has a cartesian product between FROM element(s) \"user_account\" and FROM element \"address\".  Apply join condition(s) between each element to resolve.\n",
      "  result = conn.execute(statement)\n"
     ]
    }
   ],
   "source": [
    "statement = select(user_table.c.name, address_table.c.email_address)\n",
    "\n",
    "with engine.connect() as conn:\n",
    "    result = conn.execute(statement)\n",
    "    print(result.all())"
   ]
  },
  {
   "cell_type": "markdown",
   "id": "ab28b85f-83a9-47cf-ad08-128a1be61bed",
   "metadata": {},
   "source": [
    "Twee basis manieren om te joinen.\n",
    "\n",
    "1. `join_from(left_table, right_table)`\n",
    "\n",
    "-> `FROM left_table JOIN right_table ON left_table.id = right_table.ref_id` "
   ]
  },
  {
   "cell_type": "code",
   "execution_count": 32,
   "id": "04f72787-2695-4492-8fb9-999c430cecd6",
   "metadata": {},
   "outputs": [
    {
     "name": "stdout",
     "output_type": "stream",
     "text": [
      "2025-08-10 15:02:43,635 INFO sqlalchemy.engine.Engine BEGIN (implicit)\n",
      "2025-08-10 15:02:43,636 INFO sqlalchemy.engine.Engine SELECT user_account.name, address.email_address \n",
      "FROM user_account JOIN address ON user_account.id = address.user_id\n",
      "2025-08-10 15:02:43,636 INFO sqlalchemy.engine.Engine [generated in 0.00054s] ()\n",
      "[('wwhite', 'wwhite@gmail.com'), ('jpinkman', 'jpinkman@gmail.com'), ('wwhite', 'wwhite@amc.com'), ('jpinkman', 'jpinkman@amc.com')]\n",
      "2025-08-10 15:02:43,636 INFO sqlalchemy.engine.Engine ROLLBACK\n"
     ]
    }
   ],
   "source": [
    "statement = select(user_table.c.name, address_table.c.email_address).join_from(user_table, address_table)\n",
    "\n",
    "with engine.connect() as conn:\n",
    "    result = conn.execute(statement)\n",
    "    print(result.all())"
   ]
  },
  {
   "cell_type": "markdown",
   "id": "e2c765f5-f06b-4e3c-abd5-fec81202b590",
   "metadata": {},
   "source": [
    "2. `join(right_table)`\n",
    "\n",
    "- left table is afgeleid\n",
    "- `ON` ook afgeleid, maar kan je expliciet meegeven in `join()`"
   ]
  },
  {
   "cell_type": "code",
   "execution_count": 33,
   "id": "433dfa79-9bcc-445e-b70f-1e1a67d423bb",
   "metadata": {
    "editable": true,
    "slideshow": {
     "slide_type": ""
    },
    "tags": []
   },
   "outputs": [
    {
     "name": "stdout",
     "output_type": "stream",
     "text": [
      "SELECT user_account.name, address.email_address \n",
      "FROM user_account JOIN address ON user_account.id = address.user_id\n",
      "SELECT user_account.name, address.email_address \n",
      "FROM user_account JOIN address ON user_account.id = address.user_id\n"
     ]
    }
   ],
   "source": [
    "print(select(user_table.c.name, address_table.c.email_address).join(address_table))\n",
    "print(select(user_table.c.name, address_table.c.email_address).join(address_table, user_table.c.id == address_table.c.user_id))"
   ]
  },
  {
   "cell_type": "markdown",
   "id": "2a800c47-9f0a-4f16-8a42-76f75c730b4a",
   "metadata": {},
   "source": [
    "Outer en Full joins.\n",
    "\n",
    "Herinnering:\n",
    "\n",
    "![](https://www.w3schools.com/sql/img_left_join.png) ![](https://www.w3schools.com/sql/img_full_outer_join.png)\n",
    "\n",
    "(bron: https://www.w3schools.com/sql/sql_join.asp)"
   ]
  },
  {
   "cell_type": "code",
   "execution_count": 34,
   "id": "4b2cfbda-67e5-40e0-96fb-7551912bb9a3",
   "metadata": {
    "editable": true,
    "slideshow": {
     "slide_type": ""
    },
    "tags": []
   },
   "outputs": [
    {
     "name": "stdout",
     "output_type": "stream",
     "text": [
      "SELECT user_account.name, address.email_address \n",
      "FROM user_account LEFT OUTER JOIN address ON user_account.id = address.user_id\n",
      "SELECT user_account.name, address.email_address \n",
      "FROM user_account FULL OUTER JOIN address ON user_account.id = address.user_id\n"
     ]
    }
   ],
   "source": [
    "print(\n",
    "    select(user_table.c.name, address_table.c.email_address).join(\n",
    "        address_table, isouter=True\n",
    "    )\n",
    ")\n",
    "\n",
    "print(\n",
    "    select(user_table.c.name, address_table.c.email_address).join(\n",
    "        address_table, full=True\n",
    "    )\n",
    ")"
   ]
  },
  {
   "cell_type": "markdown",
   "id": "d1d9c94f-fe56-460c-b740-051af5a0a109",
   "metadata": {},
   "source": [
    "#### Functions\n",
    "\n",
    "Bonus: `scalars()` en `one()`\n",
    "- Let op: geen `.all()` op `result`!"
   ]
  },
  {
   "cell_type": "code",
   "execution_count": 35,
   "id": "5f6e9f9a-080b-4550-a14f-58beeaf7a6f3",
   "metadata": {},
   "outputs": [
    {
     "name": "stdout",
     "output_type": "stream",
     "text": [
      "2025-08-10 15:02:43,645 INFO sqlalchemy.engine.Engine BEGIN (implicit)\n",
      "2025-08-10 15:02:43,645 INFO sqlalchemy.engine.Engine SELECT count(*) AS count_1 \n",
      "FROM user_account\n",
      "2025-08-10 15:02:43,645 INFO sqlalchemy.engine.Engine [generated in 0.00077s] ()\n",
      "2\n",
      "2025-08-10 15:02:43,646 INFO sqlalchemy.engine.Engine ROLLBACK\n"
     ]
    }
   ],
   "source": [
    "from sqlalchemy import func\n",
    "\n",
    "statement = select(func.count()).select_from(user_table)\n",
    "\n",
    "with engine.connect() as conn:\n",
    "    result = conn.execute(statement).scalars().one()\n",
    "    print(result)"
   ]
  },
  {
   "cell_type": "code",
   "execution_count": null,
   "id": "15a757d4-6e73-456d-ab54-cc88597527ed",
   "metadata": {},
   "outputs": [
    {
     "name": "stdout",
     "output_type": "stream",
     "text": [
      "2025-08-10 15:02:43,649 INFO sqlalchemy.engine.Engine BEGIN (implicit)\n",
      "2025-08-10 15:02:43,649 INFO sqlalchemy.engine.Engine SELECT upper(user_account.name) AS upper_1 \n",
      "FROM user_account\n",
      "2025-08-10 15:02:43,649 INFO sqlalchemy.engine.Engine [generated in 0.00089s] ()\n",
      "[('WWHITE',), ('JPINKMAN',)]\n",
      "2025-08-10 15:02:43,650 INFO sqlalchemy.engine.Engine ROLLBACK\n"
     ]
    }
   ],
   "source": [
    "statement = select(func.upper(user_table.c.name))\n",
    "\n",
    "with engine.connect() as conn:\n",
    "    result = conn.execute(statement).all()\n",
    "    print(result)"
   ]
  },
  {
   "cell_type": "markdown",
   "id": "881c7309-5036-46ef-8a14-3354169c7dac",
   "metadata": {},
   "source": [
    "Let op!\n",
    "- Ongedefinieerde functies worden letterlijk omgezet naar SQL"
   ]
  },
  {
   "cell_type": "code",
   "execution_count": 37,
   "id": "d20309ec-ca2b-458d-8d7c-833c03b2eada",
   "metadata": {},
   "outputs": [
    {
     "name": "stdout",
     "output_type": "stream",
     "text": [
      "SELECT make_me_rich(user_account.name) AS make_me_rich_1 \n",
      "FROM user_account\n"
     ]
    }
   ],
   "source": [
    "print(select(func.make_me_rich(user_table.c.name)))"
   ]
  },
  {
   "cell_type": "markdown",
   "id": "2d1f53e7-b269-4552-850f-cf253c793669",
   "metadata": {},
   "source": [
    "#### ORDER BY, GROUP BY, HAVING\n",
    "\n",
    "Bonus: `label()`"
   ]
  },
  {
   "cell_type": "code",
   "execution_count": 38,
   "id": "488aaee7-db68-4374-826f-a05cf84b9a64",
   "metadata": {},
   "outputs": [
    {
     "name": "stdout",
     "output_type": "stream",
     "text": [
      "SELECT user_account.id, user_account.name, user_account.fullname \n",
      "FROM user_account ORDER BY user_account.name\n",
      "SELECT user_account.name, count(address.id) AS count \n",
      "FROM user_account JOIN address ON user_account.id = address.user_id GROUP BY user_account.name \n",
      "HAVING count(address.id) > :count_1\n"
     ]
    }
   ],
   "source": [
    "print(select(user_table).order_by(user_table.c.name))\n",
    "print(\n",
    "    select(user_table.c.name, func.count(address_table.c.id).label(\"count\"))\n",
    "    .join(address_table)\n",
    "    .group_by(user_table.c.name)\n",
    "    .having(func.count(address_table.c.id) > 1)\n",
    ")"
   ]
  },
  {
   "cell_type": "markdown",
   "id": "66373667-96a8-4072-9606-561903a477f8",
   "metadata": {},
   "source": [
    "### UPDATE en DELETE"
   ]
  },
  {
   "cell_type": "code",
   "execution_count": 39,
   "id": "27c5688b-4ae6-42f8-a58d-5716fe87eadd",
   "metadata": {
    "editable": true,
    "slideshow": {
     "slide_type": ""
    },
    "tags": []
   },
   "outputs": [
    {
     "name": "stdout",
     "output_type": "stream",
     "text": [
      "2025-08-10 15:02:43,664 INFO sqlalchemy.engine.Engine BEGIN (implicit)\n",
      "2025-08-10 15:02:43,664 INFO sqlalchemy.engine.Engine UPDATE user_account SET fullname=? WHERE user_account.name = ?\n",
      "2025-08-10 15:02:43,665 INFO sqlalchemy.engine.Engine [generated in 0.00032s] (\"Walter 'Heisenberg' White\", 'wwhite')\n",
      "2025-08-10 15:02:43,665 INFO sqlalchemy.engine.Engine COMMIT\n"
     ]
    }
   ],
   "source": [
    "from sqlalchemy import update\n",
    "\n",
    "statement = (\n",
    "    update(user_table)\n",
    "    .where(user_table.c.name == \"wwhite\")\n",
    "    .values(fullname=\"Walter 'Heisenberg' White\")\n",
    ")\n",
    "\n",
    "with engine.begin() as conn:\n",
    "    conn.execute(statement)"
   ]
  },
  {
   "cell_type": "code",
   "execution_count": 40,
   "id": "0258b92c-a6fb-4f50-9f45-a220d93418db",
   "metadata": {
    "editable": true,
    "slideshow": {
     "slide_type": ""
    },
    "tags": []
   },
   "outputs": [
    {
     "name": "stdout",
     "output_type": "stream",
     "text": [
      "2025-08-10 15:02:43,669 INFO sqlalchemy.engine.Engine BEGIN (implicit)\n",
      "2025-08-10 15:02:43,669 INFO sqlalchemy.engine.Engine DELETE FROM user_account WHERE user_account.name = ?\n",
      "2025-08-10 15:02:43,669 INFO sqlalchemy.engine.Engine [generated in 0.00082s] ('wwhite',)\n",
      "1\n",
      "2025-08-10 15:02:43,670 INFO sqlalchemy.engine.Engine ROLLBACK\n"
     ]
    }
   ],
   "source": [
    "from sqlalchemy import delete\n",
    "\n",
    "statement = delete(user_table).where(user_table.c.name == \"wwhite\")\n",
    "\n",
    "with engine.connect() as conn:\n",
    "    result = conn.execute(statement)\n",
    "    print(result.rowcount)"
   ]
  },
  {
   "cell_type": "markdown",
   "id": "ec016784-3be7-4381-8dcf-91c15034c789",
   "metadata": {},
   "source": [
    "## Data verwerken met ORM\n",
    "\n",
    "Ter herinnering:\n",
    "- Core: bestaande `sqlalchemy.Table` class.\n",
    "  - Elk object = 1 table \n",
    "- ORM eigen _nieuwe_ classes (subclasses van `sqlalchemy.orm.Base`)\n",
    "  - Elke class = 1 table\n",
    "  - Elk object = 1 row\n",
    "\n",
    "### Session\n",
    "\n",
    "Met ORM gebruiken we een `sqlalchemy.orm.Session` i.p.v. een `sqlalchemy.Connection`\n",
    "- `Session` _gebruikt_ `Connection`\n",
    "- Identieke `execute()` methode, kan ook op dezelfde manier en met Core `Table` objecten gebruikt worden\n"
   ]
  },
  {
   "cell_type": "code",
   "execution_count": 41,
   "id": "804a2101-601a-46a2-887d-e8fd512d236d",
   "metadata": {},
   "outputs": [
    {
     "name": "stdout",
     "output_type": "stream",
     "text": [
      "2025-08-10 15:02:43,673 INFO sqlalchemy.engine.Engine BEGIN (implicit)\n",
      "<sqlalchemy.engine.base.Connection object at 0x108b9c890>\n",
      "2025-08-10 15:02:43,673 INFO sqlalchemy.engine.Engine SELECT user_account.name \n",
      "FROM user_account\n",
      "2025-08-10 15:02:43,673 INFO sqlalchemy.engine.Engine [generated in 0.00022s] ()\n",
      "[('wwhite',), ('jpinkman',)]\n",
      "2025-08-10 15:02:43,674 INFO sqlalchemy.engine.Engine ROLLBACK\n"
     ]
    }
   ],
   "source": [
    "from sqlalchemy.orm import Session\n",
    "\n",
    "with Session(engine) as session:\n",
    "    print(session.connection())\n",
    "    result = session.execute(select(user_table.c.name))\n",
    "    print(result.all())"
   ]
  },
  {
   "cell_type": "markdown",
   "id": "2fc2d26b",
   "metadata": {},
   "source": [
    "### Relationschips\n",
    "\n",
    "Uitdrukken van de relatie tussen (objecten van) mapped classes.\n"
   ]
  },
  {
   "cell_type": "code",
   "execution_count": null,
   "id": "0b864362",
   "metadata": {},
   "outputs": [],
   "source": [
    "from sqlalchemy.orm import relationship\n",
    "\n",
    "class Base(DeclarativeBase):\n",
    "    pass\n",
    "\n",
    "class User(Base):\n",
    "    __tablename__ = \"user_account\"\n",
    "\n",
    "    id: Mapped[int] = mapped_column(primary_key=True)\n",
    "    name: Mapped[str] = mapped_column(String(30))\n",
    "    fullname: Mapped[str]\n",
    "\n",
    "    addresses: Mapped[list[\"Address\"]] = relationship(back_populates=\"user\")\n",
    "\n",
    "\n",
    "class Address(Base):\n",
    "    __tablename__ = \"address\"\n",
    "\n",
    "    id: Mapped[int] = mapped_column(primary_key=True)\n",
    "    user_id: Mapped[int] = mapped_column(ForeignKey(\"user_account.id\"))\n",
    "    email_address: Mapped[str]\n",
    "\n",
    "    user: Mapped[User] = relationship(back_populates=\"addresses\")"
   ]
  },
  {
   "cell_type": "code",
   "execution_count": null,
   "id": "480654da",
   "metadata": {},
   "outputs": [
    {
     "name": "stdout",
     "output_type": "stream",
     "text": [
      "'wwhite'\n",
      "[]\n"
     ]
    }
   ],
   "source": [
    "user = User(name=\"wwhite\", fullname=\"Walter White\")\n",
    "print(repr(user.name))\n",
    "print(repr(user.addresses))"
   ]
  },
  {
   "cell_type": "code",
   "execution_count": null,
   "id": "63e2213b",
   "metadata": {},
   "outputs": [
    {
     "name": "stdout",
     "output_type": "stream",
     "text": [
      "2025-08-10 15:02:43,589 INFO sqlalchemy.engine.Engine BEGIN (implicit)\n",
      "2025-08-10 15:02:43,590 INFO sqlalchemy.engine.Engine PRAGMA main.table_info(\"user_account\")\n",
      "2025-08-10 15:02:43,590 INFO sqlalchemy.engine.Engine [raw sql] ()\n",
      "2025-08-10 15:02:43,590 INFO sqlalchemy.engine.Engine PRAGMA main.table_info(\"address\")\n",
      "2025-08-10 15:02:43,591 INFO sqlalchemy.engine.Engine [raw sql] ()\n",
      "2025-08-10 15:02:43,591 INFO sqlalchemy.engine.Engine COMMIT\n"
     ]
    }
   ],
   "source": [
    "Base.metadata.create_all(engine)"
   ]
  },
  {
   "cell_type": "markdown",
   "id": "c13d24b5",
   "metadata": {},
   "source": [
    "Verandert niets aan de table DDL.\n"
   ]
  },
  {
   "cell_type": "markdown",
   "id": "03669a9c-8a46-4385-8f2a-ba38b518979c",
   "metadata": {},
   "source": [
    "ORM specifiek:\n",
    "\n",
    "`Session` ...\n",
    "- Beheert alle interacties met de database\n",
    "- Tijdelijke opslagplaats voor ORM-objecten (_Identity Map_)\n",
    "- Houdt bij welke objecten geladen of gewijzigd zijn\n",
    "- Synchroniseert wijzigingen met de database (unit-of-work pattern)\n",
    "\n",
    "### SELECT\n",
    "\n",
    "- Gebruikt dezelfde 'SQL Expression Language' als Core\n",
    "  - `sqlalchemy.select`\n"
   ]
  },
  {
   "cell_type": "markdown",
   "id": "b98cfa4a-856a-4a2a-a67f-1e63918b8450",
   "metadata": {},
   "source": [
    "Maar nu krijgen we ORM objecten terug!"
   ]
  },
  {
   "cell_type": "code",
   "execution_count": 42,
   "id": "75f13658-1303-444e-b0b6-9618505ccacb",
   "metadata": {},
   "outputs": [
    {
     "name": "stdout",
     "output_type": "stream",
     "text": [
      "2025-08-10 15:02:43,677 INFO sqlalchemy.engine.Engine BEGIN (implicit)\n",
      "2025-08-10 15:02:43,677 INFO sqlalchemy.engine.Engine SELECT user_account.id, user_account.name, user_account.fullname \n",
      "FROM user_account\n",
      "2025-08-10 15:02:43,677 INFO sqlalchemy.engine.Engine [generated in 0.00022s] ()\n",
      "(1, 'wwhite', \"Walter 'Heisenberg' White\")\n",
      "2025-08-10 15:02:43,678 INFO sqlalchemy.engine.Engine SELECT user_account.id, user_account.name, user_account.fullname \n",
      "FROM user_account\n",
      "2025-08-10 15:02:43,678 INFO sqlalchemy.engine.Engine [generated in 0.00021s] ()\n",
      "(<__main__.User object at 0x10e9f6e90>,)\n",
      "wwhite\n",
      "2025-08-10 15:02:43,679 INFO sqlalchemy.engine.Engine ROLLBACK\n"
     ]
    }
   ],
   "source": [
    "with Session(engine) as session:\n",
    "    result = session.execute(select(user_table)).first()\n",
    "    print(result)\n",
    "\n",
    "    result = session.execute(select(User)).first()\n",
    "    print(result)\n",
    "    print(result[0].name)"
   ]
  },
  {
   "cell_type": "markdown",
   "id": "1ee20e83-b7b9-4624-9e58-6f9e960a0eac",
   "metadata": {},
   "source": [
    "Of nog ...\n",
    "\n",
    "Wat valt er op?"
   ]
  },
  {
   "cell_type": "code",
   "execution_count": null,
   "id": "87ad3099-ab9f-4504-9299-e9b8bd783001",
   "metadata": {},
   "outputs": [
    {
     "name": "stdout",
     "output_type": "stream",
     "text": [
      "2025-08-10 15:02:43,681 INFO sqlalchemy.engine.Engine BEGIN (implicit)\n",
      "2025-08-10 15:02:43,683 INFO sqlalchemy.engine.Engine SELECT user_account.id, user_account.name, user_account.fullname \n",
      "FROM user_account\n",
      "2025-08-10 15:02:43,684 INFO sqlalchemy.engine.Engine [cached since 0.005759s ago] ()\n",
      "1 wwhite\n",
      "2025-08-10 15:02:43,685 INFO sqlalchemy.engine.Engine SELECT user_account.id, user_account.name, user_account.fullname \n",
      "FROM user_account\n",
      "2025-08-10 15:02:43,685 INFO sqlalchemy.engine.Engine [cached since 0.006907s ago] ()\n",
      "1 wwhite\n",
      "1 wwhite\n",
      "2025-08-10 15:02:43,686 INFO sqlalchemy.engine.Engine SELECT user_account.id, user_account.name, user_account.fullname \n",
      "FROM user_account \n",
      "WHERE user_account.name = ?\n",
      "2025-08-10 15:02:43,686 INFO sqlalchemy.engine.Engine [generated in 0.00023s] ('wwhite',)\n",
      "1 wwhite\n",
      "2025-08-10 15:02:43,687 INFO sqlalchemy.engine.Engine ROLLBACK\n"
     ]
    }
   ],
   "source": [
    "with Session(engine) as session:\n",
    "    result = session.execute(select(User)).scalars().first()\n",
    "    print(result.id, result.name)\n",
    "\n",
    "    result = session.scalars(select(User)).first()\n",
    "    print(result.id, result.name)\n",
    "\n",
    "    result = session.get(User, 1)\n",
    "    print(result.id, result.name)\n",
    "\n",
    "    result = session.scalars(select(User).where(User.name == \"wwhite\")).one()\n",
    "    print(result.id, result.name)"
   ]
  },
  {
   "cell_type": "markdown",
   "id": "04e27481-8287-4bb9-b647-27ae12fe6989",
   "metadata": {},
   "source": [
    "\n"
   ]
  },
  {
   "cell_type": "code",
   "execution_count": null,
   "id": "1c927bf1-1b1b-47e7-bacc-4e1f5b2594b8",
   "metadata": {},
   "outputs": [
    {
     "name": "stdout",
     "output_type": "stream",
     "text": [
      "2025-08-10 15:02:43,689 INFO sqlalchemy.engine.Engine BEGIN (implicit)\n",
      "2025-08-10 15:02:43,692 INFO sqlalchemy.engine.Engine SELECT user_account.id AS user_account_id, user_account.name AS user_account_name, user_account.fullname AS user_account_fullname \n",
      "FROM user_account \n",
      "WHERE user_account.id = ?\n",
      "2025-08-10 15:02:43,692 INFO sqlalchemy.engine.Engine [generated in 0.00049s] (1,)\n",
      "Walter 'Heisenberg' White\n",
      "2025-08-10 15:02:43,695 INFO sqlalchemy.engine.Engine SELECT address.id AS address_id, address.user_id AS address_user_id, address.email_address AS address_email_address \n",
      "FROM address \n",
      "WHERE ? = address.user_id\n",
      "2025-08-10 15:02:43,695 INFO sqlalchemy.engine.Engine [generated in 0.00028s] (1,)\n",
      "[<__main__.Address object at 0x10e9fcec0>, <__main__.Address object at 0x10eafc190>]\n",
      "2025-08-10 15:02:43,696 INFO sqlalchemy.engine.Engine ROLLBACK\n"
     ]
    }
   ],
   "source": [
    "with Session(engine) as session:\n",
    "    walter = session.get(User, 1)\n",
    "    print(walter.fullname)\n",
    "    print(walter.addresses)"
   ]
  },
  {
   "cell_type": "code",
   "execution_count": null,
   "id": "3b7de2cf-edc5-476f-b6d8-741ef8b9d585",
   "metadata": {},
   "outputs": [],
   "source": []
  },
  {
   "cell_type": "code",
   "execution_count": null,
   "id": "dac784c1-ca57-42dc-9a86-b8954c959c90",
   "metadata": {},
   "outputs": [],
   "source": []
  },
  {
   "cell_type": "code",
   "execution_count": null,
   "id": "a42a5f34-b556-4f51-8265-e3bb262a41f0",
   "metadata": {},
   "outputs": [],
   "source": [
    "\n"
   ]
  },
  {
   "cell_type": "markdown",
   "id": "27449748-21a0-42b5-8a15-2cb0ba488679",
   "metadata": {},
   "source": [
    "### INSERT (add)\n",
    "\n",
    "\"Unit-of-Work\" pattern\n",
    "- Mapped class objecten (=~ rows) worden toegevoegd (get, add) aan een `Session`\n",
    "- De `Session` houdt aanpassingen aan de objecten bij\n",
    "- Die worden periodiek naar de database gestuurd (flush)"
   ]
  },
  {
   "cell_type": "code",
   "execution_count": 45,
   "id": "6b6478f2-25e1-44e1-bbe3-487f33e529c2",
   "metadata": {},
   "outputs": [
    {
     "name": "stdout",
     "output_type": "stream",
     "text": [
      "<__main__.User object at 0x10ea3a360>\n"
     ]
    }
   ],
   "source": [
    "gus = User(name=\"gfring\", fullname=\"Gus Fring\")\n",
    "print(gus)"
   ]
  },
  {
   "cell_type": "code",
   "execution_count": 46,
   "id": "844eddc3-bf15-49b8-a269-258941da3fa8",
   "metadata": {},
   "outputs": [
    {
     "name": "stdout",
     "output_type": "stream",
     "text": [
      "User(id=None, name='gfring', fullname='Gus Fring')\n"
     ]
    }
   ],
   "source": [
    "def user_repr(self) -> str:\n",
    "    return f\"User(id={self.id!r}, name={self.name!r}, fullname={self.fullname!r})\"\n",
    "\n",
    "User.__repr__ = user_repr\n",
    "\n",
    "print(gus)"
   ]
  },
  {
   "cell_type": "code",
   "execution_count": 47,
   "id": "b4fed345-2cef-4f9d-a27a-16e0c4788c70",
   "metadata": {},
   "outputs": [
    {
     "name": "stdout",
     "output_type": "stream",
     "text": [
      "User(id=None, name='gfring', fullname='Gus Fring')\n",
      "2025-08-10 15:02:43,704 INFO sqlalchemy.engine.Engine BEGIN (implicit)\n",
      "2025-08-10 15:02:43,704 INFO sqlalchemy.engine.Engine INSERT INTO user_account (name, fullname) VALUES (?, ?)\n",
      "2025-08-10 15:02:43,705 INFO sqlalchemy.engine.Engine [generated in 0.00026s] ('gfring', 'Gus Fring')\n",
      "2025-08-10 15:02:43,706 INFO sqlalchemy.engine.Engine INSERT INTO address (user_id, email_address) VALUES (?, ?)\n",
      "2025-08-10 15:02:43,706 INFO sqlalchemy.engine.Engine [generated in 0.00025s] (3, 'gus.fring@hermanos.com')\n",
      "User(id=3, name='gfring', fullname='Gus Fring')\n",
      "2025-08-10 15:02:43,706 INFO sqlalchemy.engine.Engine ROLLBACK\n"
     ]
    }
   ],
   "source": [
    "adr_1 = Address(email_address=\"gus.fring@hermanos.com\")\n",
    "gus.addresses.append(adr_1)\n",
    "\n",
    "print(gus)\n",
    "\n",
    "with Session(engine) as session:\n",
    "    session.add(gus)\n",
    "    session.flush()\n",
    "    print(gus)"
   ]
  },
  {
   "cell_type": "markdown",
   "id": "00517c15-fa17-40c9-ba76-70d694b698e3",
   "metadata": {},
   "source": [
    "Rows toegevoegd in database?\n",
    "\n",
    "Wat me de `id`'s in de objecten?"
   ]
  },
  {
   "cell_type": "code",
   "execution_count": 48,
   "id": "b11d9fe8-6c67-4192-9dcc-cbd5f2c05f31",
   "metadata": {
    "editable": true,
    "slideshow": {
     "slide_type": ""
    },
    "tags": [
     "raises-exception"
    ]
   },
   "outputs": [
    {
     "name": "stdout",
     "output_type": "stream",
     "text": [
      "2025-08-10 15:02:43,710 INFO sqlalchemy.engine.Engine BEGIN (implicit)\n",
      "2025-08-10 15:02:43,710 INFO sqlalchemy.engine.Engine INSERT INTO user_account (name, fullname) VALUES (?, ?)\n",
      "2025-08-10 15:02:43,711 INFO sqlalchemy.engine.Engine [cached since 0.006114s ago] ('sgoodman', 'Saul Goodman')\n",
      "2025-08-10 15:02:43,711 INFO sqlalchemy.engine.Engine INSERT INTO address (user_id, email_address) VALUES (?, ?)\n",
      "2025-08-10 15:02:43,711 INFO sqlalchemy.engine.Engine [cached since 0.005884s ago] (3, 'bettercallsaul@goodman.com')\n",
      "2025-08-10 15:02:43,712 INFO sqlalchemy.engine.Engine COMMIT\n",
      "2025-08-10 15:02:43,713 INFO sqlalchemy.engine.Engine BEGIN (implicit)\n",
      "2025-08-10 15:02:43,714 INFO sqlalchemy.engine.Engine SELECT user_account.id AS user_account_id, user_account.name AS user_account_name, user_account.fullname AS user_account_fullname \n",
      "FROM user_account \n",
      "WHERE user_account.id = ?\n",
      "2025-08-10 15:02:43,714 INFO sqlalchemy.engine.Engine [generated in 0.00029s] (3,)\n",
      "User(id=3, name='sgoodman', fullname='Saul Goodman')\n",
      "User(id=3, name='gfring', fullname='Gus Fring')\n",
      "2025-08-10 15:02:43,715 INFO sqlalchemy.engine.Engine ROLLBACK\n"
     ]
    }
   ],
   "source": [
    "saul = User(name=\"sgoodman\", fullname=\"Saul Goodman\", addresses=[Address(email_address=\"bettercallsaul@goodman.com\")])\n",
    "\n",
    "with Session(engine) as session:\n",
    "    session.add(saul)\n",
    "    session.commit()\n",
    "\n",
    "    print(saul)\n",
    "    print(gus)"
   ]
  },
  {
   "cell_type": "markdown",
   "id": "6f0b8d2a-26c3-439e-ab2b-08bb8f9fcdab",
   "metadata": {},
   "source": [
    "Let op!\n",
    "  - Detached Instance\n",
    "  - `id` bekend"
   ]
  },
  {
   "cell_type": "code",
   "execution_count": 49,
   "id": "1398de7e-4f85-4b9b-befb-140ec352c02a",
   "metadata": {},
   "outputs": [
    {
     "name": "stdout",
     "output_type": "stream",
     "text": [
      "2025-08-10 15:02:43,718 INFO sqlalchemy.engine.Engine BEGIN (implicit)\n",
      "2025-08-10 15:02:43,719 INFO sqlalchemy.engine.Engine SELECT user_account.id AS user_account_id, user_account.name AS user_account_name, user_account.fullname AS user_account_fullname \n",
      "FROM user_account \n",
      "WHERE user_account.id = ?\n",
      "2025-08-10 15:02:43,719 INFO sqlalchemy.engine.Engine [cached since 0.005231s ago] (3,)\n",
      "User(id=3, name='sgoodman', fullname='Saul Goodman')\n",
      "2025-08-10 15:02:43,720 INFO sqlalchemy.engine.Engine ROLLBACK\n"
     ]
    }
   ],
   "source": [
    "with Session(engine) as session:\n",
    "    session.add(gus)\n",
    "    session.commit()\n",
    "    print(gus)"
   ]
  },
  {
   "cell_type": "code",
   "execution_count": 50,
   "id": "3efd67c8-6193-400e-bec0-30f18c12a8d1",
   "metadata": {
    "editable": true,
    "slideshow": {
     "slide_type": ""
    },
    "tags": []
   },
   "outputs": [
    {
     "name": "stdout",
     "output_type": "stream",
     "text": [
      "User(id=None, name='gfring', fullname='Gus Fring')\n",
      "2025-08-10 15:02:43,723 INFO sqlalchemy.engine.Engine BEGIN (implicit)\n",
      "2025-08-10 15:02:43,724 INFO sqlalchemy.engine.Engine INSERT INTO user_account (name, fullname) VALUES (?, ?)\n",
      "2025-08-10 15:02:43,724 INFO sqlalchemy.engine.Engine [cached since 0.01946s ago] ('gfring', 'Gus Fring')\n",
      "2025-08-10 15:02:43,725 INFO sqlalchemy.engine.Engine INSERT INTO address (user_id, email_address) VALUES (?, ?) RETURNING id\n",
      "2025-08-10 15:02:43,725 INFO sqlalchemy.engine.Engine [generated in 0.00005s (insertmanyvalues) 1/2 (ordered; batch not supported)] (4, 'gus.fring@hermanos.com')\n",
      "2025-08-10 15:02:43,726 INFO sqlalchemy.engine.Engine INSERT INTO address (user_id, email_address) VALUES (?, ?) RETURNING id\n",
      "2025-08-10 15:02:43,726 INFO sqlalchemy.engine.Engine [insertmanyvalues 2/2 (ordered; batch not supported)] (4, 'gus.fring@amc.com')\n",
      "2025-08-10 15:02:43,726 INFO sqlalchemy.engine.Engine COMMIT\n",
      "2025-08-10 15:02:43,727 INFO sqlalchemy.engine.Engine BEGIN (implicit)\n",
      "2025-08-10 15:02:43,728 INFO sqlalchemy.engine.Engine SELECT user_account.id AS user_account_id, user_account.name AS user_account_name, user_account.fullname AS user_account_fullname \n",
      "FROM user_account \n",
      "WHERE user_account.id = ?\n",
      "2025-08-10 15:02:43,728 INFO sqlalchemy.engine.Engine [cached since 0.01405s ago] (4,)\n",
      "User(id=4, name='gfring', fullname='Gus Fring')\n",
      "2025-08-10 15:02:43,728 INFO sqlalchemy.engine.Engine ROLLBACK\n"
     ]
    }
   ],
   "source": [
    "gus = User(name=\"gfring\", fullname=\"Gus Fring\", addresses=[Address(email_address=\"gus.fring@hermanos.com\")])\n",
    "\n",
    "adr_2 = Address(email_address=\"gus.fring@amc.com\", user=gus)\n",
    "\n",
    "print(gus)\n",
    "\n",
    "with Session(engine) as session:\n",
    "    session.add(gus)\n",
    "    session.commit()\n",
    "    print(gus)"
   ]
  },
  {
   "cell_type": "markdown",
   "id": "60df3d53-a4d6-4314-a44a-ad13c8926ea4",
   "metadata": {
    "editable": true,
    "slideshow": {
     "slide_type": ""
    },
    "tags": []
   },
   "source": [
    "### UPDATE\n",
    "\n",
    "- = object aanpassen en committen\n",
    "- aangepast object is \"dirty\"\n",
    "\n",
    "Bonus:\n",
    "- `filter_by` ipv. `where`\n",
    "- `scalar_one` ipv `scalars().one()`"
   ]
  },
  {
   "cell_type": "code",
   "execution_count": 51,
   "id": "7eddc407-6c3c-400a-a0d4-2e4ab1abeeb7",
   "metadata": {},
   "outputs": [
    {
     "name": "stdout",
     "output_type": "stream",
     "text": [
      "2025-08-10 15:02:43,731 INFO sqlalchemy.engine.Engine BEGIN (implicit)\n",
      "2025-08-10 15:02:43,732 INFO sqlalchemy.engine.Engine SELECT user_account.id, user_account.name, user_account.fullname \n",
      "FROM user_account \n",
      "WHERE user_account.name = ?\n",
      "2025-08-10 15:02:43,732 INFO sqlalchemy.engine.Engine [cached since 0.04632s ago] ('gfring',)\n",
      "True\n",
      "False\n",
      "True\n",
      "2025-08-10 15:02:43,733 INFO sqlalchemy.engine.Engine UPDATE user_account SET fullname=? WHERE user_account.id = ?\n",
      "2025-08-10 15:02:43,734 INFO sqlalchemy.engine.Engine [generated in 0.00024s] ('Gustavo Fring', 4)\n",
      "2025-08-10 15:02:43,734 INFO sqlalchemy.engine.Engine COMMIT\n"
     ]
    }
   ],
   "source": [
    "with Session(engine) as session:\n",
    "    gus = session.execute(select(User).filter_by(name=\"gfring\")).scalar_one()\n",
    "\n",
    "    print(gus in session)\n",
    "    print(gus in session.dirty)\n",
    "\n",
    "    gus.fullname = \"Gustavo Fring\"\n",
    "    print(gus in session.dirty)\n",
    "\n",
    "    session.commit()"
   ]
  },
  {
   "cell_type": "markdown",
   "id": "3066b6f7-1c85-435b-b7b0-19e8f7e4fac3",
   "metadata": {},
   "source": [
    "### DELETE"
   ]
  },
  {
   "cell_type": "code",
   "execution_count": 52,
   "id": "18e37839-ae4a-4dee-b4cb-2aef7caca173",
   "metadata": {},
   "outputs": [
    {
     "name": "stdout",
     "output_type": "stream",
     "text": [
      "2025-08-10 15:02:43,737 INFO sqlalchemy.engine.Engine BEGIN (implicit)\n",
      "2025-08-10 15:02:43,738 INFO sqlalchemy.engine.Engine SELECT address.id, address.user_id, address.email_address \n",
      "FROM address \n",
      "WHERE address.email_address = ?\n",
      "2025-08-10 15:02:43,738 INFO sqlalchemy.engine.Engine [generated in 0.00025s] ('gus.fring@amc.com',)\n",
      "2025-08-10 15:02:43,739 INFO sqlalchemy.engine.Engine DELETE FROM address WHERE address.id = ?\n",
      "2025-08-10 15:02:43,739 INFO sqlalchemy.engine.Engine [generated in 0.00024s] (7,)\n",
      "2025-08-10 15:02:43,740 INFO sqlalchemy.engine.Engine COMMIT\n"
     ]
    }
   ],
   "source": [
    "with Session(engine) as session:\n",
    "    bad_addr = session.execute(select(Address).filter_by(email_address=\"gus.fring@amc.com\")).scalar_one()\n",
    "    session.delete(bad_addr)\n",
    "    session.commit()"
   ]
  },
  {
   "cell_type": "markdown",
   "id": "c98b9149-4d2f-4e48-a61b-0c1b6802a773",
   "metadata": {},
   "source": [
    "### Extras\n",
    "\n",
    "#### SQLAlchemy types en `inspect`\n",
    "\n",
    "`User.addresses` is geen gewone `list`"
   ]
  },
  {
   "cell_type": "code",
   "execution_count": 53,
   "id": "4bb56e77-cbdf-4740-bb13-3cea23d0955f",
   "metadata": {
    "editable": true,
    "slideshow": {
     "slide_type": ""
    },
    "tags": [
     "raises-exception"
    ]
   },
   "outputs": [
    {
     "name": "stdout",
     "output_type": "stream",
     "text": [
      "[]\n",
      "<class 'sqlalchemy.orm.collections.InstrumentedList'>\n"
     ]
    },
    {
     "ename": "AttributeError",
     "evalue": "'str' object has no attribute '_sa_instance_state'",
     "output_type": "error",
     "traceback": [
      "\u001b[31m---------------------------------------------------------------------------\u001b[39m",
      "\u001b[31mAttributeError\u001b[39m                            Traceback (most recent call last)",
      "\u001b[36mCell\u001b[39m\u001b[36m \u001b[39m\u001b[32mIn[53]\u001b[39m\u001b[32m, line 5\u001b[39m\n\u001b[32m      2\u001b[39m \u001b[38;5;28mprint\u001b[39m(user.addresses)\n\u001b[32m      3\u001b[39m \u001b[38;5;28mprint\u001b[39m(\u001b[38;5;28mtype\u001b[39m(user.addresses))\n\u001b[32m----> \u001b[39m\u001b[32m5\u001b[39m user.addresses.append(\u001b[33m\"\u001b[39m\u001b[33mdefinitely not an Address object\u001b[39m\u001b[33m\"\u001b[39m)\n",
      "\u001b[36mFile \u001b[39m\u001b[32m/opt/homebrew/Caskroom/miniconda/base/envs/sqlalchemy/lib/python3.13/site-packages/sqlalchemy/orm/collections.py:1138\u001b[39m, in \u001b[36m_list_decorators.<locals>.append.<locals>.append\u001b[39m\u001b[34m(self, item, _sa_initiator)\u001b[39m\n\u001b[32m   1137\u001b[39m \u001b[38;5;28;01mdef\u001b[39;00m\u001b[38;5;250m \u001b[39m\u001b[34mappend\u001b[39m(\u001b[38;5;28mself\u001b[39m, item, _sa_initiator=\u001b[38;5;28;01mNone\u001b[39;00m):\n\u001b[32m-> \u001b[39m\u001b[32m1138\u001b[39m     item = __set(\u001b[38;5;28mself\u001b[39m, item, _sa_initiator, NO_KEY)\n\u001b[32m   1139\u001b[39m     fn(\u001b[38;5;28mself\u001b[39m, item)\n",
      "\u001b[36mFile \u001b[39m\u001b[32m/opt/homebrew/Caskroom/miniconda/base/envs/sqlalchemy/lib/python3.13/site-packages/sqlalchemy/orm/collections.py:1103\u001b[39m, in \u001b[36m__set\u001b[39m\u001b[34m(collection, item, _sa_initiator, key)\u001b[39m\n\u001b[32m   1101\u001b[39m     executor = collection._sa_adapter\n\u001b[32m   1102\u001b[39m     \u001b[38;5;28;01mif\u001b[39;00m executor:\n\u001b[32m-> \u001b[39m\u001b[32m1103\u001b[39m         item = executor.fire_append_event(item, _sa_initiator, key=key)\n\u001b[32m   1104\u001b[39m \u001b[38;5;28;01mreturn\u001b[39;00m item\n",
      "\u001b[36mFile \u001b[39m\u001b[32m/opt/homebrew/Caskroom/miniconda/base/envs/sqlalchemy/lib/python3.13/site-packages/sqlalchemy/orm/collections.py:695\u001b[39m, in \u001b[36mCollectionAdapter.fire_append_event\u001b[39m\u001b[34m(self, item, initiator, key)\u001b[39m\n\u001b[32m    692\u001b[39m     \u001b[38;5;28;01mif\u001b[39;00m \u001b[38;5;28mself\u001b[39m.empty:\n\u001b[32m    693\u001b[39m         \u001b[38;5;28mself\u001b[39m._reset_empty()\n\u001b[32m--> \u001b[39m\u001b[32m695\u001b[39m     \u001b[38;5;28;01mreturn\u001b[39;00m \u001b[38;5;28mself\u001b[39m.attr.fire_append_event(\n\u001b[32m    696\u001b[39m         \u001b[38;5;28mself\u001b[39m.owner_state, \u001b[38;5;28mself\u001b[39m.owner_state.dict, item, initiator, key\n\u001b[32m    697\u001b[39m     )\n\u001b[32m    698\u001b[39m \u001b[38;5;28;01melse\u001b[39;00m:\n\u001b[32m    699\u001b[39m     \u001b[38;5;28;01mreturn\u001b[39;00m item\n",
      "\u001b[36mFile \u001b[39m\u001b[32m/opt/homebrew/Caskroom/miniconda/base/envs/sqlalchemy/lib/python3.13/site-packages/sqlalchemy/orm/attributes.py:1752\u001b[39m, in \u001b[36mCollectionAttributeImpl.fire_append_event\u001b[39m\u001b[34m(self, state, dict_, value, initiator, key)\u001b[39m\n\u001b[32m   1743\u001b[39m \u001b[38;5;28;01mdef\u001b[39;00m\u001b[38;5;250m \u001b[39m\u001b[34mfire_append_event\u001b[39m(\n\u001b[32m   1744\u001b[39m     \u001b[38;5;28mself\u001b[39m,\n\u001b[32m   1745\u001b[39m     state: InstanceState[Any],\n\u001b[32m   (...)\u001b[39m\u001b[32m   1749\u001b[39m     key: Optional[Any],\n\u001b[32m   1750\u001b[39m ) -> _T:\n\u001b[32m   1751\u001b[39m     \u001b[38;5;28;01mfor\u001b[39;00m fn \u001b[38;5;129;01min\u001b[39;00m \u001b[38;5;28mself\u001b[39m.dispatch.append:\n\u001b[32m-> \u001b[39m\u001b[32m1752\u001b[39m         value = fn(state, value, initiator \u001b[38;5;129;01mor\u001b[39;00m \u001b[38;5;28mself\u001b[39m._append_token, key=key)\n\u001b[32m   1754\u001b[39m     state._modified_event(dict_, \u001b[38;5;28mself\u001b[39m, NO_VALUE, \u001b[38;5;28;01mTrue\u001b[39;00m)\n\u001b[32m   1756\u001b[39m     \u001b[38;5;28;01mif\u001b[39;00m \u001b[38;5;28mself\u001b[39m.trackparent \u001b[38;5;129;01mand\u001b[39;00m value \u001b[38;5;129;01mis\u001b[39;00m \u001b[38;5;129;01mnot\u001b[39;00m \u001b[38;5;28;01mNone\u001b[39;00m:\n",
      "\u001b[36mFile \u001b[39m\u001b[32m/opt/homebrew/Caskroom/miniconda/base/envs/sqlalchemy/lib/python3.13/site-packages/sqlalchemy/orm/attributes.py:2199\u001b[39m, in \u001b[36mbackref_listeners.<locals>.emit_backref_from_collection_append_event\u001b[39m\u001b[34m(state, child, initiator, **kw)\u001b[39m\n\u001b[32m   2196\u001b[39m \u001b[38;5;28;01mif\u001b[39;00m child \u001b[38;5;129;01mis\u001b[39;00m \u001b[38;5;28;01mNone\u001b[39;00m:\n\u001b[32m   2197\u001b[39m     \u001b[38;5;28;01mreturn\u001b[39;00m\n\u001b[32m-> \u001b[39m\u001b[32m2199\u001b[39m child_state, child_dict = instance_state(child), instance_dict(child)\n\u001b[32m   2200\u001b[39m child_impl = child_state.manager[key].impl\n\u001b[32m   2202\u001b[39m \u001b[38;5;28;01mif\u001b[39;00m (\n\u001b[32m   2203\u001b[39m     initiator.parent_token \u001b[38;5;129;01mis\u001b[39;00m \u001b[38;5;129;01mnot\u001b[39;00m parent_token\n\u001b[32m   2204\u001b[39m     \u001b[38;5;129;01mand\u001b[39;00m initiator.parent_token \u001b[38;5;129;01mis\u001b[39;00m \u001b[38;5;129;01mnot\u001b[39;00m child_impl.parent_token\n\u001b[32m   2205\u001b[39m ):\n",
      "\u001b[31mAttributeError\u001b[39m: 'str' object has no attribute '_sa_instance_state'"
     ]
    }
   ],
   "source": [
    "user = User(name=\"wwhite\", fullname=\"Walter White\")\n",
    "print(user.addresses)\n",
    "print(type(user.addresses))\n",
    "\n",
    "user.addresses.append(\"definitely not an Address object\")"
   ]
  },
  {
   "cell_type": "code",
   "execution_count": null,
   "id": "05a7b914-611e-4c10-b602-f8d9ba900b60",
   "metadata": {},
   "outputs": [],
   "source": []
  },
  {
   "cell_type": "code",
   "execution_count": null,
   "id": "17850f07-524f-4fe0-9c04-220a417cb4be",
   "metadata": {},
   "outputs": [
    {
     "name": "stdout",
     "output_type": "stream",
     "text": [
      "<sqlalchemy.orm.state.InstanceState object at 0x11896b4d0>\n",
      "{'modified': True}\n",
      "{'modified': True, '_orphaned_outside_of_session': False, 'insert_order': 1, 'session_id': 11, '_strong_obj': User(id=None, name='hschrader', fullname='Hank Schrader'), 'mapper': <Mapper at 0x10e9f5bd0; User>}\n",
      "2025-08-10 15:02:44,171 INFO sqlalchemy.engine.Engine BEGIN (implicit)\n",
      "2025-08-10 15:02:44,171 INFO sqlalchemy.engine.Engine INSERT INTO user_account (name, fullname) VALUES (?, ?)\n",
      "2025-08-10 15:02:44,172 INFO sqlalchemy.engine.Engine [cached since 0.4674s ago] ('hschrader', 'Hank Schrader')\n",
      "XXXX {'modified': False, '_orphaned_outside_of_session': False, 'insert_order': 1, 'session_id': 11, '_strong_obj': None, 'mapper': <Mapper at 0x10e9f5bd0; User>, 'key': (<class '__main__.User'>, (5,), None), '_instance_dict': <weakref at 0x118964fe0; to 'sqlalchemy.orm.identity.WeakInstanceDict' at 0x118960e10>, 'expired': False}\n",
      "2025-08-10 15:02:44,173 INFO sqlalchemy.engine.Engine COMMIT\n",
      "XXXX {'modified': False, '_orphaned_outside_of_session': False, 'insert_order': 1, 'session_id': 11, '_strong_obj': None, 'mapper': <Mapper at 0x10e9f5bd0; User>, 'key': (<class '__main__.User'>, (5,), None), '_instance_dict': <weakref at 0x118964fe0; to 'sqlalchemy.orm.identity.WeakInstanceDict' at 0x118960e10>, 'expired': True}\n",
      "2025-08-10 15:02:44,174 INFO sqlalchemy.engine.Engine BEGIN (implicit)\n",
      "2025-08-10 15:02:44,174 INFO sqlalchemy.engine.Engine SELECT user_account.id AS user_account_id, user_account.name AS user_account_name, user_account.fullname AS user_account_fullname \n",
      "FROM user_account \n",
      "WHERE user_account.id = ?\n",
      "2025-08-10 15:02:44,174 INFO sqlalchemy.engine.Engine [cached since 0.4603s ago] (5,)\n",
      "5\n",
      "2025-08-10 15:02:44,175 INFO sqlalchemy.engine.Engine SELECT address.id AS address_id, address.user_id AS address_user_id, address.email_address AS address_email_address \n",
      "FROM address \n",
      "WHERE ? = address.user_id\n",
      "2025-08-10 15:02:44,175 INFO sqlalchemy.engine.Engine [cached since 0.4802s ago] (5,)\n",
      "[]\n",
      "2025-08-10 15:02:44,176 INFO sqlalchemy.engine.Engine ROLLBACK\n"
     ]
    }
   ],
   "source": [
    "from sqlalchemy import inspect\n",
    "\n",
    "user = User(name=\"hschrader\", fullname=\"Hank Schrader\")\n",
    "\n",
    "with Session(engine) as session:\n",
    "    print(inspect(user))\n",
    "    print(inspect(user).__dict__)\n",
    "    session.add(user)\n",
    "\n",
    "    print(inspect(user).__dict__)\n",
    "    session.flush()\n",
    "\n",
    "    print(f\"XXXX {inspect(user).__dict__}\")\n",
    "\n",
    "    session.commit()\n",
    "    print(f\"XXXX {inspect(user).__dict__}\")\n",
    "\n",
    "\n",
    "    print(user.id)\n",
    "    # lazy load\n",
    "    print(user.addresses)"
   ]
  },
  {
   "cell_type": "code",
   "execution_count": null,
   "id": "b862dec8-d4fe-4fff-b2ff-51d73413a070",
   "metadata": {},
   "outputs": [],
   "source": []
  },
  {
   "cell_type": "markdown",
   "id": "45adebfc-38ec-4430-a28a-56fa03928132",
   "metadata": {},
   "source": [
    "#### Dataclasses en SQLAlchemy\n",
    "\n",
    "- Genereert automatisch `__init__`,  `__repr__`, ...\n",
    "- Opslag van gestructureerde data\n",
    "- Minder boilerplate-code zelf schrijven"
   ]
  },
  {
   "cell_type": "code",
   "execution_count": 55,
   "id": "6b044aae-6524-43ab-bf99-76e6d20ce4fe",
   "metadata": {},
   "outputs": [
    {
     "name": "stdout",
     "output_type": "stream",
     "text": [
      "DC_User(name='wwhite', fullname='Walter White', addresses=[])\n"
     ]
    }
   ],
   "source": [
    "from dataclasses import dataclass, field\n",
    "\n",
    "@dataclass\n",
    "class DC_User():\n",
    "    name: str\n",
    "    fullname: str\n",
    "    addresses: list[str] = field(default_factory=list)\n",
    "\n",
    "user = DC_User(name=\"wwhite\", fullname=\"Walter White\")\n",
    "print(user)"
   ]
  },
  {
   "cell_type": "markdown",
   "id": "76046318-b9e2-47b1-b65b-a273e037312a",
   "metadata": {},
   "source": [
    "Vergelijk gebruik in IDE (VSCode, PyCharm, ...) met SQLAlchemy mapped class\n",
    "\n",
    "```python\n",
    "from dataclasses import dataclass, field\n",
    "\n",
    "from sqlalchemy import ForeignKey, String\n",
    "from sqlalchemy.orm import DeclarativeBase, Mapped, mapped_column, relationship\n",
    "\n",
    "\n",
    "@dataclass\n",
    "class DC_User:\n",
    "    name: str\n",
    "    fullname: str\n",
    "\n",
    "    addresses: list[str] = field(default_factory=list)\n",
    "    id: int = 0\n",
    "\n",
    "\n",
    "class Base(DeclarativeBase):\n",
    "    pass\n",
    "\n",
    "\n",
    "class SQLA_User(Base):\n",
    "    __tablename__ = \"user_account\"\n",
    "\n",
    "    id: Mapped[int] = mapped_column(primary_key=True)\n",
    "    name: Mapped[str] = mapped_column(String(30))\n",
    "    fullname: Mapped[str]\n",
    "\n",
    "    addresses: Mapped[list[\"Address\"]] = relationship(back_populates=\"user\")\n",
    "\n",
    "\n",
    "class Address(Base):\n",
    "    __tablename__ = \"address\"\n",
    "\n",
    "    id: Mapped[int] = mapped_column(primary_key=True)\n",
    "    user_id: Mapped[int] = mapped_column(ForeignKey(\"user_account.id\"))\n",
    "    email_address: Mapped[str]\n",
    "\n",
    "    user: Mapped[SQLA_User] = relationship(back_populates=\"addresses\")\n",
    "\n",
    "\n",
    "# dc_user = DC_User(name=\"wwhite\")\n",
    "\n",
    "dc_user = DC_User(name=\"wwhite\", fullname=\"Walter White\")\n",
    "print(dc_user)\n",
    "\n",
    "sqla_user = SQLA_User(name=\"wwhite\")\n",
    "print(sqla_user)\n",
    "```\n",
    "\n",
    "Oplossing: `sqlalchemy.orm.MappedAsDataclass`\n",
    "\n",
    "```python\n",
    "class Base(MappedAsDataclass, DeclarativeBase):\n",
    "    pass\n",
    "```"
   ]
  },
  {
   "cell_type": "markdown",
   "id": "6e8ecd33-e07b-4db0-ac54-226ce1c48baf",
   "metadata": {},
   "source": [
    "#### JOIN"
   ]
  },
  {
   "cell_type": "code",
   "execution_count": 56,
   "id": "6a3067be-4b11-4ca1-a394-0718338c48c7",
   "metadata": {},
   "outputs": [
    {
     "name": "stdout",
     "output_type": "stream",
     "text": [
      "2025-08-10 15:02:44,182 INFO sqlalchemy.engine.Engine BEGIN (implicit)\n",
      "2025-08-10 15:02:44,183 INFO sqlalchemy.engine.Engine SELECT address.email_address \n",
      "FROM user_account JOIN address ON user_account.id = address.user_id \n",
      "WHERE user_account.name = ?\n",
      "2025-08-10 15:02:44,183 INFO sqlalchemy.engine.Engine [generated in 0.00051s] ('wwhite',)\n",
      "wwhite@gmail.com\n",
      "wwhite@amc.com\n",
      "2025-08-10 15:02:44,184 INFO sqlalchemy.engine.Engine ROLLBACK\n"
     ]
    }
   ],
   "source": [
    "with Session(engine) as session:\n",
    "    statement = (\n",
    "        select(Address.email_address)\n",
    "        .select_from(User)\n",
    "        .join(User.addresses)\n",
    "        .where(User.name == \"wwhite\")\n",
    "    )\n",
    "    for row in session.execute(statement).scalars().all():\n",
    "        print(row)"
   ]
  },
  {
   "cell_type": "markdown",
   "id": "864a5362-f776-49e9-b56a-f6979fac7ebf",
   "metadata": {},
   "source": [
    "#### Lazy Loading en Loader Strategies"
   ]
  },
  {
   "cell_type": "code",
   "execution_count": null,
   "id": "1e53ab28-880d-4053-8b2f-713a2de34269",
   "metadata": {},
   "outputs": [
    {
     "name": "stdout",
     "output_type": "stream",
     "text": [
      "2025-08-10 15:04:33,698 INFO sqlalchemy.engine.Engine BEGIN (implicit)\n",
      "2025-08-10 15:04:33,699 INFO sqlalchemy.engine.Engine SELECT user_account.id, user_account.name, user_account.fullname \n",
      "FROM user_account \n",
      "WHERE user_account.name = ?\n",
      "2025-08-10 15:04:33,700 INFO sqlalchemy.engine.Engine [cached since 110s ago] ('jpinkman',)\n",
      "Jesse Pinkman\n",
      "Other things happen...\n",
      "2025-08-10 15:04:33,701 INFO sqlalchemy.engine.Engine SELECT address.id AS address_id, address.user_id AS address_user_id, address.email_address AS address_email_address \n",
      "FROM address \n",
      "WHERE ? = address.user_id\n",
      "2025-08-10 15:04:33,701 INFO sqlalchemy.engine.Engine [cached since 110s ago] (2,)\n",
      "jpinkman@gmail.com got lazily loaded\n",
      "2025-08-10 15:04:33,701 INFO sqlalchemy.engine.Engine ROLLBACK\n"
     ]
    }
   ],
   "source": [
    "with Session(engine) as session:\n",
    "    jesse = session.execute(select(User).filter_by(name=\"jpinkman\")).scalar_one()\n",
    "    print(jesse.fullname)\n",
    "\n",
    "    print(\"Other things happen...\")\n",
    "\n",
    "    print(f\"{jesse.addresses[0].email_address} got lazily loaded\")"
   ]
  },
  {
   "cell_type": "markdown",
   "id": "4940bedb-10f1-4636-a065-792860125b59",
   "metadata": {},
   "source": [
    "Kan leiden tot \"N+1 Probleem\""
   ]
  },
  {
   "cell_type": "code",
   "execution_count": 61,
   "id": "0fb78975-1cd0-4dd4-8288-abc588c051f2",
   "metadata": {},
   "outputs": [
    {
     "name": "stdout",
     "output_type": "stream",
     "text": [
      "2025-08-10 15:12:57,515 INFO sqlalchemy.engine.Engine BEGIN (implicit)\n",
      "2025-08-10 15:12:57,516 INFO sqlalchemy.engine.Engine SELECT user_account.id, user_account.name, user_account.fullname \n",
      "FROM user_account\n",
      "2025-08-10 15:12:57,516 INFO sqlalchemy.engine.Engine [cached since 613.8s ago] ()\n",
      "2025-08-10 15:12:57,518 INFO sqlalchemy.engine.Engine SELECT address.id AS address_id, address.user_id AS address_user_id, address.email_address AS address_email_address \n",
      "FROM address \n",
      "WHERE ? = address.user_id\n",
      "2025-08-10 15:12:57,518 INFO sqlalchemy.engine.Engine [cached since 613.8s ago] (1,)\n",
      "['wwhite@gmail.com', 'wwhite@amc.com']\n",
      "2025-08-10 15:12:57,519 INFO sqlalchemy.engine.Engine SELECT address.id AS address_id, address.user_id AS address_user_id, address.email_address AS address_email_address \n",
      "FROM address \n",
      "WHERE ? = address.user_id\n",
      "2025-08-10 15:12:57,519 INFO sqlalchemy.engine.Engine [cached since 613.8s ago] (2,)\n",
      "['jpinkman@gmail.com', 'jpinkman@amc.com']\n",
      "2025-08-10 15:12:57,520 INFO sqlalchemy.engine.Engine SELECT address.id AS address_id, address.user_id AS address_user_id, address.email_address AS address_email_address \n",
      "FROM address \n",
      "WHERE ? = address.user_id\n",
      "2025-08-10 15:12:57,521 INFO sqlalchemy.engine.Engine [cached since 613.8s ago] (3,)\n",
      "['bettercallsaul@goodman.com']\n",
      "2025-08-10 15:12:57,521 INFO sqlalchemy.engine.Engine SELECT address.id AS address_id, address.user_id AS address_user_id, address.email_address AS address_email_address \n",
      "FROM address \n",
      "WHERE ? = address.user_id\n",
      "2025-08-10 15:12:57,522 INFO sqlalchemy.engine.Engine [cached since 613.8s ago] (4,)\n",
      "['gus.fring@hermanos.com']\n",
      "2025-08-10 15:12:57,522 INFO sqlalchemy.engine.Engine SELECT address.id AS address_id, address.user_id AS address_user_id, address.email_address AS address_email_address \n",
      "FROM address \n",
      "WHERE ? = address.user_id\n",
      "2025-08-10 15:12:57,522 INFO sqlalchemy.engine.Engine [cached since 613.8s ago] (5,)\n",
      "[]\n",
      "2025-08-10 15:12:57,523 INFO sqlalchemy.engine.Engine ROLLBACK\n"
     ]
    }
   ],
   "source": [
    "with Session(engine) as session:\n",
    "    users = session.execute(select(User)).scalars() # 1 query\n",
    "    for user in users:\n",
    "        print([a.email_address for a in user.addresses])  # N queries!"
   ]
  },
  {
   "cell_type": "markdown",
   "id": "14530190-77e1-4cee-9c6c-1b1ccc60acf9",
   "metadata": {},
   "source": [
    "Oplossingen:\n",
    "- join (maar geen toegang tot `addresses` via `User`)"
   ]
  },
  {
   "cell_type": "code",
   "execution_count": 76,
   "id": "037d3c3f-9840-4d92-bd30-726bd7cad1ab",
   "metadata": {},
   "outputs": [
    {
     "name": "stdout",
     "output_type": "stream",
     "text": [
      "2025-08-10 15:26:18,430 INFO sqlalchemy.engine.Engine BEGIN (implicit)\n",
      "2025-08-10 15:26:18,432 INFO sqlalchemy.engine.Engine SELECT user_account.id, user_account.name, user_account.fullname, address.id AS id_1, address.user_id, address.email_address \n",
      "FROM user_account JOIN address ON user_account.id = address.user_id ORDER BY user_account.id, address.id\n",
      "2025-08-10 15:26:18,433 INFO sqlalchemy.engine.Engine [cached since 117.8s ago] ()\n",
      "wwhite wwhite@gmail.com\n",
      "wwhite wwhite@amc.com\n",
      "jpinkman jpinkman@gmail.com\n",
      "jpinkman jpinkman@amc.com\n",
      "sgoodman bettercallsaul@goodman.com\n",
      "gfring gus.fring@hermanos.com\n",
      "2025-08-10 15:26:18,434 INFO sqlalchemy.engine.Engine ROLLBACK\n"
     ]
    }
   ],
   "source": [
    "with Session(engine) as session:\n",
    "    users = session.execute(select(User, Address).join(User.addresses).order_by(User.id, Address.id))\n",
    "    for user, address in users.all():\n",
    "        print(f\"{user.name} {address.email_address}\")"
   ]
  },
  {
   "cell_type": "markdown",
   "id": "e89ea203-af79-4c98-a1bd-dda90bdf4781",
   "metadata": {},
   "source": [
    "- `selectinload`"
   ]
  },
  {
   "cell_type": "code",
   "execution_count": 80,
   "id": "3c3e7048-1b17-4ed9-ad78-05d6334ab576",
   "metadata": {},
   "outputs": [
    {
     "name": "stdout",
     "output_type": "stream",
     "text": [
      "2025-08-10 15:30:19,630 INFO sqlalchemy.engine.Engine BEGIN (implicit)\n",
      "2025-08-10 15:30:19,632 INFO sqlalchemy.engine.Engine SELECT user_account.id, user_account.name, user_account.fullname \n",
      "FROM user_account\n",
      "2025-08-10 15:30:19,632 INFO sqlalchemy.engine.Engine [generated in 0.00043s] ()\n",
      "2025-08-10 15:30:19,634 INFO sqlalchemy.engine.Engine SELECT address.user_id AS address_user_id, address.id AS address_id, address.email_address AS address_email_address \n",
      "FROM address \n",
      "WHERE address.user_id IN (?, ?, ?, ?, ?)\n",
      "2025-08-10 15:30:19,634 INFO sqlalchemy.engine.Engine [generated in 0.00038s] (1, 2, 3, 4, 5)\n",
      "['wwhite@gmail.com', 'wwhite@amc.com']\n",
      "['jpinkman@gmail.com', 'jpinkman@amc.com']\n",
      "['bettercallsaul@goodman.com']\n",
      "['gus.fring@hermanos.com']\n",
      "[]\n",
      "2025-08-10 15:30:19,635 INFO sqlalchemy.engine.Engine ROLLBACK\n"
     ]
    }
   ],
   "source": [
    "from sqlalchemy.orm import selectinload\n",
    "\n",
    "with Session(engine) as session:\n",
    "    users = session.execute(select(User).options(selectinload(User.addresses))).scalars()\n",
    "    for user in users:\n",
    "        print([a.email_address for a in user.addresses])"
   ]
  },
  {
   "cell_type": "markdown",
   "id": "7472bf46-e652-4d6c-9b13-0bfaeb817f1c",
   "metadata": {},
   "source": [
    "Kan ook permanent in `User` class:\n",
    "\n",
    "```python\n",
    "class User(Base):\n",
    "    __tablename__ = \"user_account\"\n",
    "\n",
    "    id: Mapped[int] = mapped_column(primary_key=True)\n",
    "    name: Mapped[str] = mapped_column(String(30))\n",
    "    fullname: Mapped[str]\n",
    "\n",
    "    addresses: Mapped[list[\"Address\"]] = relationship(back_populates=\"user\", lazy=\"selectinloadˇ\")\n",
    "```"
   ]
  },
  {
   "cell_type": "markdown",
   "id": "788a48c9-9758-46f7-ba7c-e05f35894670",
   "metadata": {},
   "source": [
    "## Constraints en Indexes"
   ]
  },
  {
   "cell_type": "code",
   "execution_count": 85,
   "id": "8a80d13c-21ee-469f-9544-05b821e4a916",
   "metadata": {},
   "outputs": [
    {
     "name": "stdout",
     "output_type": "stream",
     "text": [
      "2025-08-10 15:59:19,676 INFO sqlalchemy.engine.Engine BEGIN (implicit)\n",
      "2025-08-10 15:59:19,676 INFO sqlalchemy.engine.Engine PRAGMA main.table_info(\"user_account\")\n",
      "2025-08-10 15:59:19,677 INFO sqlalchemy.engine.Engine [raw sql] ()\n",
      "2025-08-10 15:59:19,677 INFO sqlalchemy.engine.Engine PRAGMA temp.table_info(\"user_account\")\n",
      "2025-08-10 15:59:19,677 INFO sqlalchemy.engine.Engine [raw sql] ()\n",
      "2025-08-10 15:59:19,678 INFO sqlalchemy.engine.Engine \n",
      "CREATE TABLE user_account (\n",
      "\tid INTEGER NOT NULL, \n",
      "\tname VARCHAR(30) NOT NULL, \n",
      "\tfullname VARCHAR NOT NULL, \n",
      "\tPRIMARY KEY (id), \n",
      "\tCONSTRAINT uq_user_name UNIQUE (name)\n",
      ")\n",
      "\n",
      "\n",
      "2025-08-10 15:59:19,678 INFO sqlalchemy.engine.Engine [no key 0.00033s] ()\n",
      "2025-08-10 15:59:19,679 INFO sqlalchemy.engine.Engine COMMIT\n"
     ]
    }
   ],
   "source": [
    "from sqlalchemy import UniqueConstraint\n",
    "\n",
    "engine = engine_inmem\n",
    "\n",
    "class Base(DeclarativeBase):\n",
    "    pass\n",
    "\n",
    "class User(Base):\n",
    "    __tablename__ = \"user_account\"\n",
    "\n",
    "    id: Mapped[int] = mapped_column(primary_key=True)\n",
    "    name: Mapped[str] = mapped_column(String(30))\n",
    "    fullname: Mapped[str]\n",
    "\n",
    "    __table_args__ = (\n",
    "        UniqueConstraint(\"name\", name=\"uq_user_name\"),\n",
    "    )\n",
    "\n",
    "Base.metadata.create_all(engine)"
   ]
  },
  {
   "cell_type": "code",
   "execution_count": 86,
   "id": "2ca04f92-244f-404f-b566-c786a637afca",
   "metadata": {
    "editable": true,
    "slideshow": {
     "slide_type": ""
    },
    "tags": [
     "raises-exception"
    ]
   },
   "outputs": [
    {
     "name": "stdout",
     "output_type": "stream",
     "text": [
      "2025-08-10 16:09:39,702 INFO sqlalchemy.engine.Engine BEGIN (implicit)\n",
      "2025-08-10 16:09:39,703 INFO sqlalchemy.engine.Engine INSERT INTO user_account (name, fullname) VALUES (?, ?) RETURNING id\n",
      "2025-08-10 16:09:39,704 INFO sqlalchemy.engine.Engine [generated in 0.00006s (insertmanyvalues) 1/2 (ordered; batch not supported)] ('wwhite', 'Walter White')\n",
      "2025-08-10 16:09:39,704 INFO sqlalchemy.engine.Engine INSERT INTO user_account (name, fullname) VALUES (?, ?) RETURNING id\n",
      "2025-08-10 16:09:39,705 INFO sqlalchemy.engine.Engine [insertmanyvalues 2/2 (ordered; batch not supported)] ('wwhite', 'Also Walter White')\n",
      "2025-08-10 16:09:39,706 INFO sqlalchemy.engine.Engine ROLLBACK\n"
     ]
    },
    {
     "ename": "IntegrityError",
     "evalue": "(sqlite3.IntegrityError) UNIQUE constraint failed: user_account.name\n[SQL: INSERT INTO user_account (name, fullname) VALUES (?, ?) RETURNING id]\n[parameters: ('wwhite', 'Also Walter White')]\n(Background on this error at: https://sqlalche.me/e/20/gkpj)",
     "output_type": "error",
     "traceback": [
      "\u001b[31m---------------------------------------------------------------------------\u001b[39m",
      "\u001b[31mIntegrityError\u001b[39m                            Traceback (most recent call last)",
      "\u001b[36mFile \u001b[39m\u001b[32m/opt/homebrew/Caskroom/miniconda/base/envs/sqlalchemy/lib/python3.13/site-packages/sqlalchemy/engine/base.py:2114\u001b[39m, in \u001b[36mConnection._exec_insertmany_context\u001b[39m\u001b[34m(self, dialect, context)\u001b[39m\n\u001b[32m   2113\u001b[39m     \u001b[38;5;28;01melse\u001b[39;00m:\n\u001b[32m-> \u001b[39m\u001b[32m2114\u001b[39m         dialect.do_execute(\n\u001b[32m   2115\u001b[39m             cursor,\n\u001b[32m   2116\u001b[39m             sub_stmt,\n\u001b[32m   2117\u001b[39m             sub_params,\n\u001b[32m   2118\u001b[39m             context,\n\u001b[32m   2119\u001b[39m         )\n\u001b[32m   2121\u001b[39m \u001b[38;5;28;01mexcept\u001b[39;00m \u001b[38;5;167;01mBaseException\u001b[39;00m \u001b[38;5;28;01mas\u001b[39;00m e:\n",
      "\u001b[36mFile \u001b[39m\u001b[32m/opt/homebrew/Caskroom/miniconda/base/envs/sqlalchemy/lib/python3.13/site-packages/sqlalchemy/engine/default.py:943\u001b[39m, in \u001b[36mDefaultDialect.do_execute\u001b[39m\u001b[34m(self, cursor, statement, parameters, context)\u001b[39m\n\u001b[32m    942\u001b[39m \u001b[38;5;28;01mdef\u001b[39;00m\u001b[38;5;250m \u001b[39m\u001b[34mdo_execute\u001b[39m(\u001b[38;5;28mself\u001b[39m, cursor, statement, parameters, context=\u001b[38;5;28;01mNone\u001b[39;00m):\n\u001b[32m--> \u001b[39m\u001b[32m943\u001b[39m     cursor.execute(statement, parameters)\n",
      "\u001b[31mIntegrityError\u001b[39m: UNIQUE constraint failed: user_account.name",
      "\nThe above exception was the direct cause of the following exception:\n",
      "\u001b[31mIntegrityError\u001b[39m                            Traceback (most recent call last)",
      "\u001b[36mCell\u001b[39m\u001b[36m \u001b[39m\u001b[32mIn[86]\u001b[39m\u001b[32m, line 7\u001b[39m\n\u001b[32m      5\u001b[39m session.add(u1)\n\u001b[32m      6\u001b[39m session.add(u2)\n\u001b[32m----> \u001b[39m\u001b[32m7\u001b[39m session.flush()\n",
      "\u001b[36mFile \u001b[39m\u001b[32m/opt/homebrew/Caskroom/miniconda/base/envs/sqlalchemy/lib/python3.13/site-packages/sqlalchemy/orm/session.py:4345\u001b[39m, in \u001b[36mSession.flush\u001b[39m\u001b[34m(self, objects)\u001b[39m\n\u001b[32m   4343\u001b[39m \u001b[38;5;28;01mtry\u001b[39;00m:\n\u001b[32m   4344\u001b[39m     \u001b[38;5;28mself\u001b[39m._flushing = \u001b[38;5;28;01mTrue\u001b[39;00m\n\u001b[32m-> \u001b[39m\u001b[32m4345\u001b[39m     \u001b[38;5;28mself\u001b[39m._flush(objects)\n\u001b[32m   4346\u001b[39m \u001b[38;5;28;01mfinally\u001b[39;00m:\n\u001b[32m   4347\u001b[39m     \u001b[38;5;28mself\u001b[39m._flushing = \u001b[38;5;28;01mFalse\u001b[39;00m\n",
      "\u001b[36mFile \u001b[39m\u001b[32m/opt/homebrew/Caskroom/miniconda/base/envs/sqlalchemy/lib/python3.13/site-packages/sqlalchemy/orm/session.py:4480\u001b[39m, in \u001b[36mSession._flush\u001b[39m\u001b[34m(self, objects)\u001b[39m\n\u001b[32m   4477\u001b[39m     transaction.commit()\n\u001b[32m   4479\u001b[39m \u001b[38;5;28;01mexcept\u001b[39;00m:\n\u001b[32m-> \u001b[39m\u001b[32m4480\u001b[39m     \u001b[38;5;28;01mwith\u001b[39;00m util.safe_reraise():\n\u001b[32m   4481\u001b[39m         transaction.rollback(_capture_exception=\u001b[38;5;28;01mTrue\u001b[39;00m)\n",
      "\u001b[36mFile \u001b[39m\u001b[32m/opt/homebrew/Caskroom/miniconda/base/envs/sqlalchemy/lib/python3.13/site-packages/sqlalchemy/util/langhelpers.py:224\u001b[39m, in \u001b[36msafe_reraise.__exit__\u001b[39m\u001b[34m(self, type_, value, traceback)\u001b[39m\n\u001b[32m    222\u001b[39m     \u001b[38;5;28;01massert\u001b[39;00m exc_value \u001b[38;5;129;01mis\u001b[39;00m \u001b[38;5;129;01mnot\u001b[39;00m \u001b[38;5;28;01mNone\u001b[39;00m\n\u001b[32m    223\u001b[39m     \u001b[38;5;28mself\u001b[39m._exc_info = \u001b[38;5;28;01mNone\u001b[39;00m  \u001b[38;5;66;03m# remove potential circular references\u001b[39;00m\n\u001b[32m--> \u001b[39m\u001b[32m224\u001b[39m     \u001b[38;5;28;01mraise\u001b[39;00m exc_value.with_traceback(exc_tb)\n\u001b[32m    225\u001b[39m \u001b[38;5;28;01melse\u001b[39;00m:\n\u001b[32m    226\u001b[39m     \u001b[38;5;28mself\u001b[39m._exc_info = \u001b[38;5;28;01mNone\u001b[39;00m  \u001b[38;5;66;03m# remove potential circular references\u001b[39;00m\n",
      "\u001b[36mFile \u001b[39m\u001b[32m/opt/homebrew/Caskroom/miniconda/base/envs/sqlalchemy/lib/python3.13/site-packages/sqlalchemy/orm/session.py:4441\u001b[39m, in \u001b[36mSession._flush\u001b[39m\u001b[34m(self, objects)\u001b[39m\n\u001b[32m   4439\u001b[39m \u001b[38;5;28mself\u001b[39m._warn_on_events = \u001b[38;5;28;01mTrue\u001b[39;00m\n\u001b[32m   4440\u001b[39m \u001b[38;5;28;01mtry\u001b[39;00m:\n\u001b[32m-> \u001b[39m\u001b[32m4441\u001b[39m     flush_context.execute()\n\u001b[32m   4442\u001b[39m \u001b[38;5;28;01mfinally\u001b[39;00m:\n\u001b[32m   4443\u001b[39m     \u001b[38;5;28mself\u001b[39m._warn_on_events = \u001b[38;5;28;01mFalse\u001b[39;00m\n",
      "\u001b[36mFile \u001b[39m\u001b[32m/opt/homebrew/Caskroom/miniconda/base/envs/sqlalchemy/lib/python3.13/site-packages/sqlalchemy/orm/unitofwork.py:466\u001b[39m, in \u001b[36mUOWTransaction.execute\u001b[39m\u001b[34m(self)\u001b[39m\n\u001b[32m    464\u001b[39m \u001b[38;5;28;01melse\u001b[39;00m:\n\u001b[32m    465\u001b[39m     \u001b[38;5;28;01mfor\u001b[39;00m rec \u001b[38;5;129;01min\u001b[39;00m topological.sort(\u001b[38;5;28mself\u001b[39m.dependencies, postsort_actions):\n\u001b[32m--> \u001b[39m\u001b[32m466\u001b[39m         rec.execute(\u001b[38;5;28mself\u001b[39m)\n",
      "\u001b[36mFile \u001b[39m\u001b[32m/opt/homebrew/Caskroom/miniconda/base/envs/sqlalchemy/lib/python3.13/site-packages/sqlalchemy/orm/unitofwork.py:642\u001b[39m, in \u001b[36mSaveUpdateAll.execute\u001b[39m\u001b[34m(self, uow)\u001b[39m\n\u001b[32m    640\u001b[39m \u001b[38;5;129m@util\u001b[39m.preload_module(\u001b[33m\"\u001b[39m\u001b[33msqlalchemy.orm.persistence\u001b[39m\u001b[33m\"\u001b[39m)\n\u001b[32m    641\u001b[39m \u001b[38;5;28;01mdef\u001b[39;00m\u001b[38;5;250m \u001b[39m\u001b[34mexecute\u001b[39m(\u001b[38;5;28mself\u001b[39m, uow):\n\u001b[32m--> \u001b[39m\u001b[32m642\u001b[39m     util.preloaded.orm_persistence.save_obj(\n\u001b[32m    643\u001b[39m         \u001b[38;5;28mself\u001b[39m.mapper,\n\u001b[32m    644\u001b[39m         uow.states_for_mapper_hierarchy(\u001b[38;5;28mself\u001b[39m.mapper, \u001b[38;5;28;01mFalse\u001b[39;00m, \u001b[38;5;28;01mFalse\u001b[39;00m),\n\u001b[32m    645\u001b[39m         uow,\n\u001b[32m    646\u001b[39m     )\n",
      "\u001b[36mFile \u001b[39m\u001b[32m/opt/homebrew/Caskroom/miniconda/base/envs/sqlalchemy/lib/python3.13/site-packages/sqlalchemy/orm/persistence.py:93\u001b[39m, in \u001b[36msave_obj\u001b[39m\u001b[34m(base_mapper, states, uowtransaction, single)\u001b[39m\n\u001b[32m     81\u001b[39m     update = _collect_update_commands(\n\u001b[32m     82\u001b[39m         uowtransaction, table, states_to_update\n\u001b[32m     83\u001b[39m     )\n\u001b[32m     85\u001b[39m     _emit_update_statements(\n\u001b[32m     86\u001b[39m         base_mapper,\n\u001b[32m     87\u001b[39m         uowtransaction,\n\u001b[32m   (...)\u001b[39m\u001b[32m     90\u001b[39m         update,\n\u001b[32m     91\u001b[39m     )\n\u001b[32m---> \u001b[39m\u001b[32m93\u001b[39m     _emit_insert_statements(\n\u001b[32m     94\u001b[39m         base_mapper,\n\u001b[32m     95\u001b[39m         uowtransaction,\n\u001b[32m     96\u001b[39m         mapper,\n\u001b[32m     97\u001b[39m         table,\n\u001b[32m     98\u001b[39m         insert,\n\u001b[32m     99\u001b[39m     )\n\u001b[32m    101\u001b[39m _finalize_insert_update_commands(\n\u001b[32m    102\u001b[39m     base_mapper,\n\u001b[32m    103\u001b[39m     uowtransaction,\n\u001b[32m   (...)\u001b[39m\u001b[32m    119\u001b[39m     ),\n\u001b[32m    120\u001b[39m )\n",
      "\u001b[36mFile \u001b[39m\u001b[32m/opt/homebrew/Caskroom/miniconda/base/envs/sqlalchemy/lib/python3.13/site-packages/sqlalchemy/orm/persistence.py:1143\u001b[39m, in \u001b[36m_emit_insert_statements\u001b[39m\u001b[34m(base_mapper, uowtransaction, mapper, table, insert, bookkeeping, use_orm_insert_stmt, execution_options)\u001b[39m\n\u001b[32m   1140\u001b[39m \u001b[38;5;28;01mif\u001b[39;00m do_executemany:\n\u001b[32m   1141\u001b[39m     multiparams = [rec[\u001b[32m2\u001b[39m] \u001b[38;5;28;01mfor\u001b[39;00m rec \u001b[38;5;129;01min\u001b[39;00m records]\n\u001b[32m-> \u001b[39m\u001b[32m1143\u001b[39m     result = connection.execute(\n\u001b[32m   1144\u001b[39m         statement, multiparams, execution_options=execution_options\n\u001b[32m   1145\u001b[39m     )\n\u001b[32m   1147\u001b[39m     \u001b[38;5;28;01mif\u001b[39;00m use_orm_insert_stmt \u001b[38;5;129;01mis\u001b[39;00m \u001b[38;5;129;01mnot\u001b[39;00m \u001b[38;5;28;01mNone\u001b[39;00m:\n\u001b[32m   1148\u001b[39m         \u001b[38;5;28;01mif\u001b[39;00m return_result \u001b[38;5;129;01mis\u001b[39;00m \u001b[38;5;28;01mNone\u001b[39;00m:\n",
      "\u001b[36mFile \u001b[39m\u001b[32m/opt/homebrew/Caskroom/miniconda/base/envs/sqlalchemy/lib/python3.13/site-packages/sqlalchemy/engine/base.py:1415\u001b[39m, in \u001b[36mConnection.execute\u001b[39m\u001b[34m(self, statement, parameters, execution_options)\u001b[39m\n\u001b[32m   1413\u001b[39m     \u001b[38;5;28;01mraise\u001b[39;00m exc.ObjectNotExecutableError(statement) \u001b[38;5;28;01mfrom\u001b[39;00m\u001b[38;5;250m \u001b[39m\u001b[34;01merr\u001b[39;00m\n\u001b[32m   1414\u001b[39m \u001b[38;5;28;01melse\u001b[39;00m:\n\u001b[32m-> \u001b[39m\u001b[32m1415\u001b[39m     \u001b[38;5;28;01mreturn\u001b[39;00m meth(\n\u001b[32m   1416\u001b[39m         \u001b[38;5;28mself\u001b[39m,\n\u001b[32m   1417\u001b[39m         distilled_parameters,\n\u001b[32m   1418\u001b[39m         execution_options \u001b[38;5;129;01mor\u001b[39;00m NO_OPTIONS,\n\u001b[32m   1419\u001b[39m     )\n",
      "\u001b[36mFile \u001b[39m\u001b[32m/opt/homebrew/Caskroom/miniconda/base/envs/sqlalchemy/lib/python3.13/site-packages/sqlalchemy/sql/elements.py:523\u001b[39m, in \u001b[36mClauseElement._execute_on_connection\u001b[39m\u001b[34m(self, connection, distilled_params, execution_options)\u001b[39m\n\u001b[32m    521\u001b[39m     \u001b[38;5;28;01mif\u001b[39;00m TYPE_CHECKING:\n\u001b[32m    522\u001b[39m         \u001b[38;5;28;01massert\u001b[39;00m \u001b[38;5;28misinstance\u001b[39m(\u001b[38;5;28mself\u001b[39m, Executable)\n\u001b[32m--> \u001b[39m\u001b[32m523\u001b[39m     \u001b[38;5;28;01mreturn\u001b[39;00m connection._execute_clauseelement(\n\u001b[32m    524\u001b[39m         \u001b[38;5;28mself\u001b[39m, distilled_params, execution_options\n\u001b[32m    525\u001b[39m     )\n\u001b[32m    526\u001b[39m \u001b[38;5;28;01melse\u001b[39;00m:\n\u001b[32m    527\u001b[39m     \u001b[38;5;28;01mraise\u001b[39;00m exc.ObjectNotExecutableError(\u001b[38;5;28mself\u001b[39m)\n",
      "\u001b[36mFile \u001b[39m\u001b[32m/opt/homebrew/Caskroom/miniconda/base/envs/sqlalchemy/lib/python3.13/site-packages/sqlalchemy/engine/base.py:1637\u001b[39m, in \u001b[36mConnection._execute_clauseelement\u001b[39m\u001b[34m(self, elem, distilled_parameters, execution_options)\u001b[39m\n\u001b[32m   1625\u001b[39m compiled_cache: Optional[CompiledCacheType] = execution_options.get(\n\u001b[32m   1626\u001b[39m     \u001b[33m\"\u001b[39m\u001b[33mcompiled_cache\u001b[39m\u001b[33m\"\u001b[39m, \u001b[38;5;28mself\u001b[39m.engine._compiled_cache\n\u001b[32m   1627\u001b[39m )\n\u001b[32m   1629\u001b[39m compiled_sql, extracted_params, cache_hit = elem._compile_w_cache(\n\u001b[32m   1630\u001b[39m     dialect=dialect,\n\u001b[32m   1631\u001b[39m     compiled_cache=compiled_cache,\n\u001b[32m   (...)\u001b[39m\u001b[32m   1635\u001b[39m     linting=\u001b[38;5;28mself\u001b[39m.dialect.compiler_linting | compiler.WARN_LINTING,\n\u001b[32m   1636\u001b[39m )\n\u001b[32m-> \u001b[39m\u001b[32m1637\u001b[39m ret = \u001b[38;5;28mself\u001b[39m._execute_context(\n\u001b[32m   1638\u001b[39m     dialect,\n\u001b[32m   1639\u001b[39m     dialect.execution_ctx_cls._init_compiled,\n\u001b[32m   1640\u001b[39m     compiled_sql,\n\u001b[32m   1641\u001b[39m     distilled_parameters,\n\u001b[32m   1642\u001b[39m     execution_options,\n\u001b[32m   1643\u001b[39m     compiled_sql,\n\u001b[32m   1644\u001b[39m     distilled_parameters,\n\u001b[32m   1645\u001b[39m     elem,\n\u001b[32m   1646\u001b[39m     extracted_params,\n\u001b[32m   1647\u001b[39m     cache_hit=cache_hit,\n\u001b[32m   1648\u001b[39m )\n\u001b[32m   1649\u001b[39m \u001b[38;5;28;01mif\u001b[39;00m has_events:\n\u001b[32m   1650\u001b[39m     \u001b[38;5;28mself\u001b[39m.dispatch.after_execute(\n\u001b[32m   1651\u001b[39m         \u001b[38;5;28mself\u001b[39m,\n\u001b[32m   1652\u001b[39m         elem,\n\u001b[32m   (...)\u001b[39m\u001b[32m   1656\u001b[39m         ret,\n\u001b[32m   1657\u001b[39m     )\n",
      "\u001b[36mFile \u001b[39m\u001b[32m/opt/homebrew/Caskroom/miniconda/base/envs/sqlalchemy/lib/python3.13/site-packages/sqlalchemy/engine/base.py:1840\u001b[39m, in \u001b[36mConnection._execute_context\u001b[39m\u001b[34m(self, dialect, constructor, statement, parameters, execution_options, *args, **kw)\u001b[39m\n\u001b[32m   1837\u001b[39m context.pre_exec()\n\u001b[32m   1839\u001b[39m \u001b[38;5;28;01mif\u001b[39;00m context.execute_style \u001b[38;5;129;01mis\u001b[39;00m ExecuteStyle.INSERTMANYVALUES:\n\u001b[32m-> \u001b[39m\u001b[32m1840\u001b[39m     \u001b[38;5;28;01mreturn\u001b[39;00m \u001b[38;5;28mself\u001b[39m._exec_insertmany_context(dialect, context)\n\u001b[32m   1841\u001b[39m \u001b[38;5;28;01melse\u001b[39;00m:\n\u001b[32m   1842\u001b[39m     \u001b[38;5;28;01mreturn\u001b[39;00m \u001b[38;5;28mself\u001b[39m._exec_single_context(\n\u001b[32m   1843\u001b[39m         dialect, context, statement, parameters\n\u001b[32m   1844\u001b[39m     )\n",
      "\u001b[36mFile \u001b[39m\u001b[32m/opt/homebrew/Caskroom/miniconda/base/envs/sqlalchemy/lib/python3.13/site-packages/sqlalchemy/engine/base.py:2122\u001b[39m, in \u001b[36mConnection._exec_insertmany_context\u001b[39m\u001b[34m(self, dialect, context)\u001b[39m\n\u001b[32m   2114\u001b[39m         dialect.do_execute(\n\u001b[32m   2115\u001b[39m             cursor,\n\u001b[32m   2116\u001b[39m             sub_stmt,\n\u001b[32m   2117\u001b[39m             sub_params,\n\u001b[32m   2118\u001b[39m             context,\n\u001b[32m   2119\u001b[39m         )\n\u001b[32m   2121\u001b[39m \u001b[38;5;28;01mexcept\u001b[39;00m \u001b[38;5;167;01mBaseException\u001b[39;00m \u001b[38;5;28;01mas\u001b[39;00m e:\n\u001b[32m-> \u001b[39m\u001b[32m2122\u001b[39m     \u001b[38;5;28mself\u001b[39m._handle_dbapi_exception(\n\u001b[32m   2123\u001b[39m         e,\n\u001b[32m   2124\u001b[39m         sql_util._long_statement(sub_stmt),\n\u001b[32m   2125\u001b[39m         sub_params,\n\u001b[32m   2126\u001b[39m         cursor,\n\u001b[32m   2127\u001b[39m         context,\n\u001b[32m   2128\u001b[39m         is_sub_exec=\u001b[38;5;28;01mTrue\u001b[39;00m,\n\u001b[32m   2129\u001b[39m     )\n\u001b[32m   2131\u001b[39m \u001b[38;5;28;01mif\u001b[39;00m engine_events:\n\u001b[32m   2132\u001b[39m     \u001b[38;5;28mself\u001b[39m.dispatch.after_cursor_execute(\n\u001b[32m   2133\u001b[39m         \u001b[38;5;28mself\u001b[39m,\n\u001b[32m   2134\u001b[39m         cursor,\n\u001b[32m   (...)\u001b[39m\u001b[32m   2138\u001b[39m         context.executemany,\n\u001b[32m   2139\u001b[39m     )\n",
      "\u001b[36mFile \u001b[39m\u001b[32m/opt/homebrew/Caskroom/miniconda/base/envs/sqlalchemy/lib/python3.13/site-packages/sqlalchemy/engine/base.py:2351\u001b[39m, in \u001b[36mConnection._handle_dbapi_exception\u001b[39m\u001b[34m(self, e, statement, parameters, cursor, context, is_sub_exec)\u001b[39m\n\u001b[32m   2349\u001b[39m \u001b[38;5;28;01melif\u001b[39;00m should_wrap:\n\u001b[32m   2350\u001b[39m     \u001b[38;5;28;01massert\u001b[39;00m sqlalchemy_exception \u001b[38;5;129;01mis\u001b[39;00m \u001b[38;5;129;01mnot\u001b[39;00m \u001b[38;5;28;01mNone\u001b[39;00m\n\u001b[32m-> \u001b[39m\u001b[32m2351\u001b[39m     \u001b[38;5;28;01mraise\u001b[39;00m sqlalchemy_exception.with_traceback(exc_info[\u001b[32m2\u001b[39m]) \u001b[38;5;28;01mfrom\u001b[39;00m\u001b[38;5;250m \u001b[39m\u001b[34;01me\u001b[39;00m\n\u001b[32m   2352\u001b[39m \u001b[38;5;28;01melse\u001b[39;00m:\n\u001b[32m   2353\u001b[39m     \u001b[38;5;28;01massert\u001b[39;00m exc_info[\u001b[32m1\u001b[39m] \u001b[38;5;129;01mis\u001b[39;00m \u001b[38;5;129;01mnot\u001b[39;00m \u001b[38;5;28;01mNone\u001b[39;00m\n",
      "\u001b[36mFile \u001b[39m\u001b[32m/opt/homebrew/Caskroom/miniconda/base/envs/sqlalchemy/lib/python3.13/site-packages/sqlalchemy/engine/base.py:2114\u001b[39m, in \u001b[36mConnection._exec_insertmany_context\u001b[39m\u001b[34m(self, dialect, context)\u001b[39m\n\u001b[32m   2112\u001b[39m             \u001b[38;5;28;01mbreak\u001b[39;00m\n\u001b[32m   2113\u001b[39m     \u001b[38;5;28;01melse\u001b[39;00m:\n\u001b[32m-> \u001b[39m\u001b[32m2114\u001b[39m         dialect.do_execute(\n\u001b[32m   2115\u001b[39m             cursor,\n\u001b[32m   2116\u001b[39m             sub_stmt,\n\u001b[32m   2117\u001b[39m             sub_params,\n\u001b[32m   2118\u001b[39m             context,\n\u001b[32m   2119\u001b[39m         )\n\u001b[32m   2121\u001b[39m \u001b[38;5;28;01mexcept\u001b[39;00m \u001b[38;5;167;01mBaseException\u001b[39;00m \u001b[38;5;28;01mas\u001b[39;00m e:\n\u001b[32m   2122\u001b[39m     \u001b[38;5;28mself\u001b[39m._handle_dbapi_exception(\n\u001b[32m   2123\u001b[39m         e,\n\u001b[32m   2124\u001b[39m         sql_util._long_statement(sub_stmt),\n\u001b[32m   (...)\u001b[39m\u001b[32m   2128\u001b[39m         is_sub_exec=\u001b[38;5;28;01mTrue\u001b[39;00m,\n\u001b[32m   2129\u001b[39m     )\n",
      "\u001b[36mFile \u001b[39m\u001b[32m/opt/homebrew/Caskroom/miniconda/base/envs/sqlalchemy/lib/python3.13/site-packages/sqlalchemy/engine/default.py:943\u001b[39m, in \u001b[36mDefaultDialect.do_execute\u001b[39m\u001b[34m(self, cursor, statement, parameters, context)\u001b[39m\n\u001b[32m    942\u001b[39m \u001b[38;5;28;01mdef\u001b[39;00m\u001b[38;5;250m \u001b[39m\u001b[34mdo_execute\u001b[39m(\u001b[38;5;28mself\u001b[39m, cursor, statement, parameters, context=\u001b[38;5;28;01mNone\u001b[39;00m):\n\u001b[32m--> \u001b[39m\u001b[32m943\u001b[39m     cursor.execute(statement, parameters)\n",
      "\u001b[31mIntegrityError\u001b[39m: (sqlite3.IntegrityError) UNIQUE constraint failed: user_account.name\n[SQL: INSERT INTO user_account (name, fullname) VALUES (?, ?) RETURNING id]\n[parameters: ('wwhite', 'Also Walter White')]\n(Background on this error at: https://sqlalche.me/e/20/gkpj)"
     ]
    }
   ],
   "source": [
    "u1 = User(name=\"wwhite\", fullname=\"Walter White\")\n",
    "u2 = User(name=\"wwhite\", fullname=\"Also Walter White\")\n",
    "\n",
    "with Session(engine) as session:\n",
    "    session.add(u1)\n",
    "    session.add(u2)\n",
    "    session.flush()"
   ]
  },
  {
   "cell_type": "code",
   "execution_count": 88,
   "id": "5174402b-31e5-4da8-9e4e-f9ed58a59e8e",
   "metadata": {},
   "outputs": [
    {
     "name": "stdout",
     "output_type": "stream",
     "text": [
      "2025-08-10 16:13:22,382 INFO sqlalchemy.engine.Engine BEGIN (implicit)\n",
      "2025-08-10 16:13:22,383 INFO sqlalchemy.engine.Engine PRAGMA main.table_info(\"user_account\")\n",
      "2025-08-10 16:13:22,383 INFO sqlalchemy.engine.Engine [raw sql] ()\n",
      "2025-08-10 16:13:22,385 INFO sqlalchemy.engine.Engine \n",
      "DROP TABLE user_account\n",
      "2025-08-10 16:13:22,385 INFO sqlalchemy.engine.Engine [no key 0.00055s] ()\n",
      "2025-08-10 16:13:22,386 INFO sqlalchemy.engine.Engine COMMIT\n",
      "2025-08-10 16:13:22,388 INFO sqlalchemy.engine.Engine BEGIN (implicit)\n",
      "2025-08-10 16:13:22,389 INFO sqlalchemy.engine.Engine PRAGMA main.table_info(\"user_account\")\n",
      "2025-08-10 16:13:22,389 INFO sqlalchemy.engine.Engine [raw sql] ()\n",
      "2025-08-10 16:13:22,390 INFO sqlalchemy.engine.Engine PRAGMA temp.table_info(\"user_account\")\n",
      "2025-08-10 16:13:22,390 INFO sqlalchemy.engine.Engine [raw sql] ()\n",
      "2025-08-10 16:13:22,391 INFO sqlalchemy.engine.Engine \n",
      "CREATE TABLE user_account (\n",
      "\tid INTEGER NOT NULL, \n",
      "\tname VARCHAR(30) NOT NULL, \n",
      "\tfullname VARCHAR NOT NULL, \n",
      "\tPRIMARY KEY (id), \n",
      "\tCONSTRAINT uq_user_name UNIQUE (name)\n",
      ")\n",
      "\n",
      "\n",
      "2025-08-10 16:13:22,391 INFO sqlalchemy.engine.Engine [no key 0.00030s] ()\n",
      "2025-08-10 16:13:22,392 INFO sqlalchemy.engine.Engine CREATE INDEX ix_user_name ON user_account (name)\n",
      "2025-08-10 16:13:22,392 INFO sqlalchemy.engine.Engine [no key 0.00027s] ()\n",
      "2025-08-10 16:13:22,392 INFO sqlalchemy.engine.Engine COMMIT\n"
     ]
    }
   ],
   "source": [
    "from sqlalchemy import Index\n",
    "\n",
    "Base.metadata.drop_all(engine)\n",
    "\n",
    "class Base(DeclarativeBase):\n",
    "    pass\n",
    "\n",
    "class User(Base):\n",
    "    __tablename__ = \"user_account\"\n",
    "\n",
    "    id: Mapped[int] = mapped_column(primary_key=True)\n",
    "    name: Mapped[str] = mapped_column(String(30))\n",
    "    fullname: Mapped[str]\n",
    "\n",
    "    __table_args__ = (\n",
    "        UniqueConstraint(\"name\", name=\"uq_user_name\"),\n",
    "        Index(\"ix_user_name\", \"name\")\n",
    "    )\n",
    "\n",
    "Base.metadata.create_all(engine)"
   ]
  },
  {
   "cell_type": "code",
   "execution_count": null,
   "id": "e4a17343-6d78-464a-8075-174c0b61a1ae",
   "metadata": {},
   "outputs": [],
   "source": []
  },
  {
   "cell_type": "code",
   "execution_count": null,
   "id": "6ca29b31-485d-4e7e-9d4f-ebeea268a083",
   "metadata": {},
   "outputs": [],
   "source": []
  },
  {
   "cell_type": "code",
   "execution_count": null,
   "id": "ca09381f-c088-4352-91a3-fa2884038285",
   "metadata": {},
   "outputs": [],
   "source": []
  },
  {
   "cell_type": "markdown",
   "id": "18d80fd7-b95c-47c3-b9d4-335277a97163",
   "metadata": {},
   "source": [
    "## PostgreSQL ipv sqlite\n",
    "\n",
    "```bash\n",
    "conda install psycopg2\n",
    "\n",
    "createdb syntra\n",
    "```"
   ]
  },
  {
   "cell_type": "code",
   "execution_count": 90,
   "id": "8aeaf004-c8c1-4145-896c-6e80968dfb54",
   "metadata": {},
   "outputs": [
    {
     "name": "stdout",
     "output_type": "stream",
     "text": [
      "2025-08-12 09:10:51,310 INFO sqlalchemy.engine.Engine select pg_catalog.version()\n",
      "2025-08-12 09:10:51,311 INFO sqlalchemy.engine.Engine [raw sql] {}\n",
      "2025-08-12 09:10:51,312 INFO sqlalchemy.engine.Engine select current_schema()\n",
      "2025-08-12 09:10:51,312 INFO sqlalchemy.engine.Engine [raw sql] {}\n",
      "2025-08-12 09:10:51,313 INFO sqlalchemy.engine.Engine show standard_conforming_strings\n",
      "2025-08-12 09:10:51,313 INFO sqlalchemy.engine.Engine [raw sql] {}\n",
      "2025-08-12 09:10:51,314 INFO sqlalchemy.engine.Engine BEGIN (implicit)\n",
      "2025-08-12 09:10:51,317 INFO sqlalchemy.engine.Engine SELECT pg_catalog.pg_class.relname \n",
      "FROM pg_catalog.pg_class JOIN pg_catalog.pg_namespace ON pg_catalog.pg_namespace.oid = pg_catalog.pg_class.relnamespace \n",
      "WHERE pg_catalog.pg_class.relname = %(table_name)s AND pg_catalog.pg_class.relkind = ANY (ARRAY[%(param_1)s, %(param_2)s, %(param_3)s, %(param_4)s, %(param_5)s]) AND pg_catalog.pg_table_is_visible(pg_catalog.pg_class.oid) AND pg_catalog.pg_namespace.nspname != %(nspname_1)s\n",
      "2025-08-12 09:10:51,317 INFO sqlalchemy.engine.Engine [generated in 0.00055s] {'table_name': 'user_account', 'param_1': 'r', 'param_2': 'p', 'param_3': 'f', 'param_4': 'v', 'param_5': 'm', 'nspname_1': 'pg_catalog'}\n",
      "2025-08-12 09:10:51,319 INFO sqlalchemy.engine.Engine \n",
      "CREATE TABLE user_account (\n",
      "\tid SERIAL NOT NULL, \n",
      "\tname VARCHAR(30) NOT NULL, \n",
      "\tfullname VARCHAR NOT NULL, \n",
      "\tPRIMARY KEY (id), \n",
      "\tCONSTRAINT uq_user_name UNIQUE (name)\n",
      ")\n",
      "\n",
      "\n",
      "2025-08-12 09:10:51,320 INFO sqlalchemy.engine.Engine [no key 0.00031s] {}\n",
      "2025-08-12 09:10:51,325 INFO sqlalchemy.engine.Engine CREATE INDEX ix_user_name ON user_account (name)\n",
      "2025-08-12 09:10:51,325 INFO sqlalchemy.engine.Engine [no key 0.00047s] {}\n",
      "2025-08-12 09:10:51,327 INFO sqlalchemy.engine.Engine COMMIT\n"
     ]
    }
   ],
   "source": [
    "engine = create_engine(\"postgresql://postgres@localhost/syntra\", echo=True)\n",
    "\n",
    "Base.metadata.create_all(engine)"
   ]
  },
  {
   "cell_type": "code",
   "execution_count": 91,
   "id": "31743a40-c886-4b77-b477-89172da47484",
   "metadata": {},
   "outputs": [
    {
     "name": "stdout",
     "output_type": "stream",
     "text": [
      "2025-08-12 09:16:45,660 INFO sqlalchemy.engine.Engine BEGIN (implicit)\n",
      "2025-08-12 09:16:45,662 INFO sqlalchemy.engine.Engine INSERT INTO user_account (name, fullname) VALUES (%(name__0)s, %(fullname__0)s), (%(name__1)s, %(fullname__1)s), (%(name__2)s, %(fullname__2)s), (%(name__3)s, %(fullname__3)s), (%(name__4)s, %(fullname__4)s)\n",
      "2025-08-12 09:16:45,663 INFO sqlalchemy.engine.Engine [generated in 0.00005s (insertmanyvalues) 1/1 (unordered)] {'name__0': 'wwhite', 'fullname__0': 'Walter White', 'name__1': 'jpinkman', 'fullname__1': 'Jesse Pinkman', 'name__2': 'gfring', 'fullname__2': 'Gus Fring', 'name__3': 'hschrade', 'fullname__3': 'Hank Schrader', 'name__4': 'mehrmant', 'fullname__4': 'Mike Ehrmantraut'}\n",
      "2025-08-12 09:16:45,666 INFO sqlalchemy.engine.Engine COMMIT\n"
     ]
    }
   ],
   "source": [
    "with Session(engine) as session:\n",
    "    session.execute(\n",
    "        insert(User),\n",
    "        [\n",
    "            {\"name\": \"wwhite\", \"fullname\": \"Walter White\"},\n",
    "            {\"name\": \"jpinkman\", \"fullname\": \"Jesse Pinkman\"},\n",
    "            {\"name\": \"gfring\", \"fullname\": \"Gus Fring\"},\n",
    "            {\"name\": \"hschrade\", \"fullname\": \"Hank Schrader\"},\n",
    "            {\"name\": \"mehrmant\", \"fullname\": \"Mike Ehrmantraut\"},\n",
    "        ],\n",
    "    )\n",
    "    session.commit()"
   ]
  },
  {
   "cell_type": "code",
   "execution_count": null,
   "id": "d3e1384e-15a1-4bb3-b431-3ac1a3e7af92",
   "metadata": {},
   "outputs": [
    {
     "name": "stdout",
     "output_type": "stream",
     "text": [
      "2025-08-12 09:17:23,906 INFO sqlalchemy.engine.Engine BEGIN (implicit)\n",
      "2025-08-12 09:17:23,907 INFO sqlalchemy.engine.Engine SELECT user_account.id AS user_account_id, user_account.name AS user_account_name, user_account.fullname AS user_account_fullname \n",
      "FROM user_account \n",
      "WHERE user_account.id = %(pk_1)s\n",
      "2025-08-12 09:17:23,908 INFO sqlalchemy.engine.Engine [generated in 0.00079s] {'pk_1': 1}\n",
      "Walter White\n",
      "2025-08-12 09:17:23,910 INFO sqlalchemy.engine.Engine ROLLBACK\n"
     ]
    }
   ],
   "source": [
    "with Session(engine) as session:\n",
    "    walter = session.get(User, 1)\n",
    "    print(walter.fullname)"
   ]
  },
  {
   "cell_type": "code",
   "execution_count": null,
   "id": "acc87ce1-c02f-4b5b-9a8e-8ab4900ce0c2",
   "metadata": {},
   "outputs": [],
   "source": []
  },
  {
   "cell_type": "markdown",
   "id": "58f3ad1c",
   "metadata": {},
   "source": [
    "## EXTRA\n",
    "\n",
    "#### Dataclasses\n"
   ]
  }
 ],
 "metadata": {
  "kernelspec": {
   "display_name": "binder-syntra",
   "language": "python",
   "name": "python3"
  },
  "language_info": {
   "codemirror_mode": {
    "name": "ipython",
    "version": 3
   },
   "file_extension": ".py",
   "mimetype": "text/x-python",
   "name": "python",
   "nbconvert_exporter": "python",
   "pygments_lexer": "ipython3",
   "version": "3.13.5"
  }
 },
 "nbformat": 4,
 "nbformat_minor": 5
}
